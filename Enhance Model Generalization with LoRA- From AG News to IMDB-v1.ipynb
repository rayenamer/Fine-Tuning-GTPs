{
 "cells": [
  {
   "cell_type": "markdown",
   "id": "3631c4e8-6bd7-4afc-bef4-39f11f7cfd05",
   "metadata": {},
   "source": [
    "<p style=\"text-align:center\">\n",
    "    <a href=\"https://skills.network\" target=\"_blank\">\n",
    "    <img src=\"https://cf-courses-data.s3.us.cloud-object-storage.appdomain.cloud/assets/logos/SN_web_lightmode.png\" width=\"200\" alt=\"Skills Network Logo\">\n",
    "    </a>\n",
    "</p>\n"
   ]
  },
  {
   "cell_type": "markdown",
   "id": "06eb8195-cf92-4d81-8396-53b20bb66675",
   "metadata": {},
   "source": [
    "# LoRA with PyTorch\n",
    "\n",
    "Estimated time needed: **60** minutes\n",
    "\n",
    "As an AI engineer, you are tasked with fine-tuning a model for sentiment analysis on the IMDB dataset, starting with a model that is pretrained on the AG News dataset. By leveraging Low-Rank Adaptation (LoRA), the model is initially trained on AG News, benefiting from its extensive labeled data and broad categorization capabilities. This robust foundation enhances the model’s language understanding.\n",
    "\n",
    "Subsequently, LoRA is used to fine-tune the model on the IMDB dataset, adapting its knowledge to the nuances of movie reviews for sentiment analysis. This two-phase process — starting with AG News and refining with IMDB data — ensures that the model is both well-rounded and specialized, achieving superior performance in sentiment analysis tasks.\n",
    "\n",
    "**Note: If you are already familiar with training a model on the IMDB dataset, you can run the cells and then jump to the Low-Rank Adaptation (LoRA) section**\n",
    "\n",
    "\n",
    "\n",
    "\n",
    "\n",
    "\n",
    "![Documents Overload](https://cf-courses-data.s3.us.cloud-object-storage.appdomain.cloud/IBM-GPXX0Y15EN/docs.png)\n",
    "\n",
    "```Efficiency in parameter updates:``` LoRA introduces only a small fraction of additional parameters compared to the total number of parameters in a large model. This makes the training process faster and less resource-intensive because fewer parameters need to be updated during backpropagation.\n",
    "\n",
    "```Preservation of pretrained knowledge:``` By keeping the majority of the model's weights fixed and only adjusting them through low-rank matrices, LoRA helps preserve the rich representations that the model learned during pretraining. This is particularly beneficial for tasks that do not require drastic deviations from the behavior learned during pretraining.\n",
    "\n",
    "```Customization to specific tasks:``` Despite the minimal updates, the changes introduced by LoRA are significant enough to adapt the model to specific tasks. This lets you fine-tune large models on specialized tasks without the need for extensive retraining.\n",
    "\n",
    "```Reduction in overfitting:``` Because only a limited number of parameters are adapted, the risk of overfitting is lower compared to full model fine-tuning, especially when adapting to smaller datasets.\n",
    "\n",
    "```Scalability:``` LoRA scales well with model size. As models become larger, the relative increase in the number of parameters introduced by LoRA becomes even smaller, making it a particularly attractive option for adapting very large models.\n",
    "\n",
    "```Compatibility and simplicity:``` The method can be easily applied to different types of neural networks, especially those based on the transformer architecture. It doesn't require major changes to the existing architecture, which simplifies integration into existing pipelines.\n"
   ]
  },
  {
   "cell_type": "markdown",
   "id": "c3f86fa4-e97a-4838-87d3-bee40d6dae65",
   "metadata": {},
   "source": [
    "# __Table of Contents__\n",
    "\n",
    "<ol>\n",
    "    <li><a href=\"#Objectives\">Objectives</a></li>\n",
    "    <li>\n",
    "        <a href=\"#Setup\">Setup</a>\n",
    "        <ol>\n",
    "            <li><a href=\"#Install-required-libraries\">Install required libraries</a></li>\n",
    "            <li><a href=\"#Import-required-libraries\">Import required libraries</a></li>\n",
    "            <li><a href=\"#Defining-helper-functions\">Defining helper functions</a></li>\n",
    "        </ol>\n",
    "    </li>\n",
    "    <li>\n",
    "        <a href=\"#Data-pipeline\">Data pipeline</a>\n",
    "        <ol>\n",
    "            <li><a href=\"#Tokenizer\">Tokenizer</a></li>\n",
    "        </ol>\n",
    "    </li>\n",
    "    <li>\n",
    "        <a href=\"#IMDB-dataset\">IMDB dataset</a></li>\n",
    "        <ol>\n",
    "            <li><a href=\"#Dataset-composition\">Dataset composition</a></li>\n",
    "            <li><a href=\"#Applications\">Applications</a></li>\n",
    "            <li><a href=\"#Challenges\">Challenges</a></li>\n",
    "            <li><a href=\"#Train-and-validate\">Train and validate</a></li>\n",
    "            <li><a href=\"#Data-loader\">Data loader</a></li>\n",
    "            <li><a href=\"#Neural-network\">Neural network</a></li>\n",
    "        </ol>\n",
    "     </li>\n",
    "    <li>\n",
    "        <a href=\"#Train-the-model-on-the-full-dataset\">Train the model on the full dataset</a></li>\n",
    "        <ol>\n",
    "            <li><a href=\"#Train-the-model\">Train the model</a></li>\n",
    "        </ol>\n",
    "     </li>\n",
    "    <li>\n",
    "        <a href=\"#Low-Rank-Adaptation-(LoRA)\">Low-Rank Adaptation (LoRA)</a></li>\n",
    "        <ol>\n",
    "            <li><a href=\"#LoRA\">LoRA</a></li>\n",
    "            <li><a href=\"#Rank\">Rank</a></li>\n",
    "            <li><a href=\"#Understanding-LoRA-in-PyTorch\">Understanding LoRA in PyTorch</a></li>\n",
    "            <li><a href=\"#Applying-LoRA\">Applying LoRA</a></li>\n",
    "            <li><a href=\"#Loading-the-model\">Loading the model</a></li>\n",
    "        </ol>\n",
    "     </li>\n",
    "    <li>\n",
    "        <a href=\"#Exercise:-Apply-LoRA-to-a-different-network\">Exercise: Apply LoRA to a different network</a>\n",
    "    </li>\n",
    "</ol>\n"
   ]
  },
  {
   "cell_type": "markdown",
   "id": "9295526c-c992-4726-a082-25845a6a2147",
   "metadata": {},
   "source": [
    "---\n"
   ]
  },
  {
   "cell_type": "markdown",
   "id": "1aa53090-94dd-4573-b71c-3902e8d320fd",
   "metadata": {},
   "source": [
    "## Objectives\n",
    "\n",
    "After completing this lab you are able to:\n",
    "\n",
    "- Construct and train a neural network from the ground up\n",
    "- Fine-tune a neural network in the conventional manner by unfreezing specific layers\n",
    "- Use LoRA to fine-tune a neural network\n",
    "- Comprehend the functions of LoRA and the reasons behind its effectiveness\n",
    "- Save and load models that employ LoRA efficiently\n"
   ]
  },
  {
   "cell_type": "markdown",
   "id": "307b2bd5-a2ab-4e5b-948d-26e1eac84376",
   "metadata": {},
   "source": [
    "---\n"
   ]
  },
  {
   "cell_type": "markdown",
   "id": "5ee52c39-f7c1-4052-b220-9952bbc2ba5e",
   "metadata": {},
   "source": [
    "## Setup\n"
   ]
  },
  {
   "cell_type": "markdown",
   "id": "22831e36-9112-4ce9-b8d5-a59ea9222210",
   "metadata": {},
   "source": [
    "### Install required libraries\n"
   ]
  },
  {
   "cell_type": "markdown",
   "id": "04f5e046-68f9-4c0e-9415-a91f1be3c4bc",
   "metadata": {},
   "source": [
    "The following required libraries are __not__ preinstalled in the Skills Network Labs environment. __You must run the following cell__ to install them. Note that it can take between __5 and 10 minutes__ to install the required libraries:\n"
   ]
  },
  {
   "cell_type": "code",
   "execution_count": null,
   "id": "eaa3cde8-1d29-4dbe-b2d1-6069aba38a4f",
   "metadata": {},
   "outputs": [],
   "source": [
    "!pip install torch==2.2.2\n",
    "!pip install torchtext==0.17.2\n",
    "!pip install portalocker==2.8.2\n",
    "!pip install torchdata==0.7.1\n",
    "!pip install plotly==5.22.0\n",
    "!pip install pandas\n",
    "!pip install matplotlib==3.9.0 scikit-learn==1.5.0"
   ]
  },
  {
   "cell_type": "code",
   "execution_count": null,
   "id": "e4771370-1f06-4a7f-80b4-129a25f2e3e9",
   "metadata": {},
   "outputs": [],
   "source": [
    "!pip install numpy==1.26.0"
   ]
  },
  {
   "cell_type": "markdown",
   "id": "037247e6-79fb-4004-8d1f-f5dacef393c2",
   "metadata": {},
   "source": [
    "### Import required libraries\n",
    "\n",
    "The following imports the required libraries:\n"
   ]
  },
  {
   "cell_type": "code",
   "execution_count": 25,
   "id": "52b7a190-22bc-402b-b318-02d63f2be837",
   "metadata": {},
   "outputs": [],
   "source": [
    "from tqdm import tqdm\n",
    "import numpy as np\n",
    "import pandas as pd\n",
    "from itertools import accumulate\n",
    "import matplotlib.pyplot as plt\n",
    "import math\n",
    "import os\n",
    "\n",
    "import torch\n",
    "import torch.nn as nn\n",
    "import torch.nn.functional as F\n",
    "\n",
    "import torchtext#; torchtext.disable_torchtext_deprecation_warning()\n",
    "from torchtext.vocab import build_vocab_from_iterator, GloVe, Vectors\n",
    "\n",
    "\n",
    "\n",
    "from sklearn.manifold import TSNE\n",
    "\n",
    "\n",
    "\n",
    "from torch.utils.data import DataLoader\n",
    "import numpy as np\n",
    "from torchtext.datasets import AG_NEWS\n",
    "from IPython.display import Markdown as md\n",
    "from tqdm import tqdm\n",
    "\n",
    "from torchtext.vocab import build_vocab_from_iterator\n",
    "\n",
    "from torch.utils.data.dataset import random_split,Dataset\n",
    "from torchtext.data.functional import to_map_style_dataset\n",
    "from sklearn.manifold import TSNE\n",
    "import plotly.graph_objs as go\n",
    "\n",
    "import pickle\n",
    "\n",
    "from urllib.request import urlopen\n",
    "import io\n",
    "\n",
    "import tarfile\n",
    "import tempfile\n",
    "\n",
    "# You can also use this section to suppress warnings generated by your code:\n",
    "def warn(*args, **kwargs):\n",
    "    pass\n",
    "import warnings\n",
    "warnings.warn = warn\n",
    "warnings.filterwarnings('ignore')"
   ]
  },
  {
   "cell_type": "markdown",
   "id": "e7eaf063-a0d8-40c8-ac07-d06290f2e6b7",
   "metadata": {},
   "source": [
    "### Defining helper functions\n",
    "\n",
    "The following are some helper functions to help with plotting, saving, and loading files. These functions are not the main focus of this lab, you do not have to dwell on these too long. However, do run the cells in this section to define these helper functions:\n"
   ]
  },
  {
   "cell_type": "code",
   "execution_count": 26,
   "id": "7dc94535-8752-4c4b-99ad-046bf4e4c516",
   "metadata": {},
   "outputs": [],
   "source": [
    "def plot(COST,ACC):\n",
    "    fig, ax1 = plt.subplots()\n",
    "    color = 'tab:red'\n",
    "    ax1.plot(COST, color=color)\n",
    "    ax1.set_xlabel('epoch', color=color)\n",
    "    ax1.set_ylabel('total loss', color=color)\n",
    "    ax1.tick_params(axis='y', color=color)\n",
    "\n",
    "    ax2 = ax1.twinx()\n",
    "    color = 'tab:blue'\n",
    "    ax2.set_ylabel('accuracy', color=color)  # You already handled the x-label with ax1\n",
    "    ax2.plot(ACC, color=color)\n",
    "    ax2.tick_params(axis='y', color=color)\n",
    "    fig.tight_layout()  # otherwise the right y-label is slightly clipped\n",
    "\n",
    "    plt.show()"
   ]
  },
  {
   "cell_type": "code",
   "execution_count": 27,
   "id": "68e9a4ea-cbfe-4a81-9595-64348d6a8a8f",
   "metadata": {},
   "outputs": [],
   "source": [
    "import pickle\n",
    "\n",
    "def save_list_to_file(lst, filename):\n",
    "    \"\"\"\n",
    "    Save a list to a file using pickle serialization.\n",
    "\n",
    "    Parameters:\n",
    "        lst (list): The list to be saved.\n",
    "        filename (str): The name of the file to save the list to.\n",
    "\n",
    "    Returns:\n",
    "        None\n",
    "    \"\"\"\n",
    "    with open(filename, 'wb') as file:\n",
    "        pickle.dump(lst, file)\n",
    "\n",
    "def load_list_from_file(filename):\n",
    "    \"\"\"\n",
    "    Load a list from a file using pickle deserialization.\n",
    "\n",
    "    Parameters:\n",
    "        filename (str): The name of the file to load the list from.\n",
    "\n",
    "    Returns:\n",
    "        list: The loaded list.\n",
    "    \"\"\"\n",
    "    with open(filename, 'rb') as file:\n",
    "        loaded_list = pickle.load(file)\n",
    "    return loaded_list"
   ]
  },
  {
   "cell_type": "markdown",
   "id": "2a222159-9f7f-438b-9c8e-c11c866683b7",
   "metadata": {},
   "source": [
    "---\n"
   ]
  },
  {
   "cell_type": "markdown",
   "id": "5ebf936e-8d5d-4785-8a72-a52e6f1ba651",
   "metadata": {},
   "source": [
    "## Data pipeline\n"
   ]
  },
  {
   "cell_type": "markdown",
   "id": "e6e92fd9-97d5-4bc0-abcc-95637929d7c9",
   "metadata": {},
   "source": [
    "### Tokenizer\n"
   ]
  },
  {
   "cell_type": "markdown",
   "id": "1b0b2e9f-0050-4ab0-85c4-767e95d79995",
   "metadata": {},
   "source": [
    "A tokenizer takes as input a document and breaks it up into individual tokens. Now, you might wonder, what's a token?\n",
    "This example might help you understand it better.\n",
    "\n",
    "Imagine a token as a puzzle piece of a jigsaw puzzle. Each word, number, or small part of a word is a token. When you tokenize a document, you break it into these puzzle pieces so that a computer can understand and work with the text more easily, just like how you solve a puzzle by arranging its pieces.\n"
   ]
  },
  {
   "cell_type": "markdown",
   "id": "59542085-7aa8-46d0-8845-cd840b6f17e6",
   "metadata": {},
   "source": [
    "First, import the **```get_tokenizer```** function from **```torchtext.data.utils```**.\n"
   ]
  },
  {
   "cell_type": "code",
   "execution_count": 28,
   "id": "a58faa53-8a3e-4f80-840c-c45285614a50",
   "metadata": {},
   "outputs": [],
   "source": [
    "from torchtext.data.utils import get_tokenizer"
   ]
  },
  {
   "cell_type": "markdown",
   "id": "2a53d7e6-705c-4bc6-8287-e0a97b1d2703",
   "metadata": {},
   "source": [
    "Next, we'll create the tokenizer. We'll set it to the \"basic_english\" tokenizer that is provided by `torchtext`. The \"basic_english\" tokenizer is designed to handle basic English text and splits the text into individual tokens based on spaces and punctuation marks.\n"
   ]
  },
  {
   "cell_type": "code",
   "execution_count": 29,
   "id": "e4bebf0e-651b-498e-b1ba-c8f8eae7656d",
   "metadata": {},
   "outputs": [],
   "source": [
    "tokenizer = get_tokenizer(\"basic_english\")"
   ]
  },
  {
   "cell_type": "markdown",
   "id": "b8b1e59c-aa00-484c-b084-2b0e5e8bde76",
   "metadata": {},
   "source": [
    "Our dataset is going to be an iterable. Therefore, We'll use a generator function **```yield_tokens```** to apply **```tokenizer```**. The purpose of the generator function **```yield_tokens```** is to yield tokenized texts one at a time. Instead of processing the entire dataset and returning all of the tokenized texts in one go, the generator function processes and yields each tokenized text individually as it is requested. The tokenization process is performed lazily, which means the next tokenized text is generated only when needed, saving memory and computational resources.\n"
   ]
  },
  {
   "cell_type": "code",
   "execution_count": 30,
   "id": "92c270ae-7668-4e1d-bce3-a1988b2365ed",
   "metadata": {},
   "outputs": [],
   "source": [
    "def yield_tokens(data_iter):\n",
    "    for  _,text in data_iter:\n",
    "        yield tokenizer(text)"
   ]
  },
  {
   "cell_type": "markdown",
   "id": "9e795761-fdbb-4e9c-a143-40bab6d0f05b",
   "metadata": {},
   "source": [
    "The following loads a pretrained word embedding model called GloVe into a variable called `glove_embedding`:\n"
   ]
  },
  {
   "cell_type": "code",
   "execution_count": null,
   "id": "0d45d5a2-4fea-4923-8845-0f950e710ca1",
   "metadata": {},
   "outputs": [
    {
     "name": "stderr",
     "output_type": "stream",
     "text": [
      ".vector_cache\\glove.6B.zip: 0.00B [00:00, ?B/s]"
     ]
    },
    {
     "name": "stderr",
     "output_type": "stream",
     "text": [
      ".vector_cache\\glove.6B.zip:  77%|███████▋  | 661M/862M [16:32<05:26, 617kB/s]     "
     ]
    }
   ],
   "source": [
    "# Note that GloVe embeddings are typically downloaded using:\n",
    "#glove_embedding = GloVe(name=\"6B\", dim=100)\n",
    "# However, the GloVe server is frequently down. The code below offers a workaround\n",
    "\n",
    "\n",
    "class GloVe_override(Vectors):\n",
    "    url = {\n",
    "        \"6B\": \"https://cf-courses-data.s3.us.cloud-object-storage.appdomain.cloud/tQdezXocAJMBMPfUJx_iUg/glove-6B.zip\",\n",
    "    }\n",
    "\n",
    "    def __init__(self, name=\"6B\", dim=100, **kwargs) -> None:\n",
    "        url = self.url[name]\n",
    "        name = \"glove.{}.{}d.txt\".format(name, str(dim))\n",
    "        #name = \"glove.{}/glove.{}.{}d.txt\".format(name, name, str(dim))\n",
    "        super(GloVe_override, self).__init__(name, url=url, **kwargs)\n",
    "\n",
    "class GloVe_override2(Vectors):\n",
    "    url = {\n",
    "        \"6B\": \"https://cf-courses-data.s3.us.cloud-object-storage.appdomain.cloud/tQdezXocAJMBMPfUJx_iUg/glove-6B.zip\",\n",
    "    }\n",
    "\n",
    "    def __init__(self, name=\"6B\", dim=100, **kwargs) -> None:\n",
    "        url = self.url[name]\n",
    "        #name = \"glove.{}.{}d.txt\".format(name, str(dim))\n",
    "        name = \"glove.{}/glove.{}.{}d.txt\".format(name, name, str(dim))\n",
    "        super(GloVe_override2, self).__init__(name, url=url, **kwargs)\n",
    "\n",
    "try:\n",
    "    glove_embedding = GloVe_override(name=\"6B\", dim=100)\n",
    "except:\n",
    "    try:\n",
    "        glove_embedding = GloVe_override2(name=\"6B\", dim=100)\n",
    "    except:\n",
    "        glove_embedding = GloVe(name=\"6B\", dim=100)"
   ]
  },
  {
   "cell_type": "markdown",
   "id": "3ac8ce6c-9ee7-493e-960c-6bd593b32e7c",
   "metadata": {},
   "source": [
    "The following builds a vocabulary object from a pretrained GloVe word embedding model and sets the default index to the <unk> token:\n"
   ]
  },
  {
   "cell_type": "code",
   "execution_count": null,
   "id": "4e36e96d-ff33-4907-8b77-071ed6fc8593",
   "metadata": {},
   "outputs": [],
   "source": [
    "\n",
    "from torchtext.vocab import vocab\n",
    "vocab = vocab(glove_embedding .stoi, 0,specials=('<unk>', '<pad>'))\n",
    "vocab.set_default_index(vocab[\"<unk>\"])\n",
    "\n"
   ]
  },
  {
   "cell_type": "markdown",
   "id": "a168434f-1c6e-45b4-9ffc-9278a5785901",
   "metadata": {},
   "source": [
    "The following prepares the text processing pipeline with the tokenizer and vocabulary. The text pipeline will be used to process the raw data strings from the dataset iterators.\n",
    "\n",
    "The function **```text_pipeline```** first tokenizes the input text, following which **```vocab```** is applied to get the token indices.\n",
    "\n",
    "The function **```label_pipeline```** simply converts labels into their integer values.\n"
   ]
  },
  {
   "cell_type": "code",
   "execution_count": null,
   "id": "a59af6f6-e789-4715-8cad-a56786740b5a",
   "metadata": {},
   "outputs": [],
   "source": [
    "def text_pipeline(x):\n",
    "  return vocab(tokenizer(x))\n",
    "\n",
    "def label_pipeline(x):\n",
    "   return int(x) "
   ]
  },
  {
   "cell_type": "markdown",
   "id": "f785d35f-6a5b-4717-a03e-c2006187a5a1",
   "metadata": {},
   "source": [
    "---\n"
   ]
  },
  {
   "cell_type": "markdown",
   "id": "50527f14-1036-43f3-821f-15069869540d",
   "metadata": {},
   "source": [
    "## IMDB dataset \n"
   ]
  },
  {
   "cell_type": "markdown",
   "id": "9f1c9a7e-0fb1-410b-a99f-234d077bee19",
   "metadata": {},
   "source": [
    "The following loads the IMDB dataset into a temporary folder. This might take some time, so please be patient.\n"
   ]
  },
  {
   "cell_type": "code",
   "execution_count": null,
   "id": "2cf766d3-876d-4a27-b66c-c4757c03295e",
   "metadata": {},
   "outputs": [],
   "source": [
    "urlopened = urlopen('https://cf-courses-data.s3.us.cloud-object-storage.appdomain.cloud/35t-FeC-2uN1ozOwPs7wFg.gz')\n",
    "tar = tarfile.open(fileobj=io.BytesIO(urlopened.read()))\n",
    "tempdir = tempfile.TemporaryDirectory()\n",
    "tar.extractall(tempdir.name)\n",
    "tar.close()"
   ]
  },
  {
   "cell_type": "markdown",
   "id": "46da506c-9233-4f48-8659-5d202b5d5e39",
   "metadata": {},
   "source": [
    "The **IMDB dataset** contains movie reviews from the Internet Movie Database (IMDB) and is commonly used for binary sentiment classification tasks. It's a popular dataset for training and testing models in natural language processing (NLP), particularly in the context of sentiment analysis.\n",
    "\n",
    "### Dataset composition\n",
    "\n",
    "- **Reviews**: The dataset consists of 50,000 movie reviews, divided evenly into 25,000 training and 25,000 testing samples.\n",
    "- **Sentiment labels**: Each review is labeled as either positive or negative, indicating the sentiment expressed in the review. The dataset is balanced, with an equal number of positive and negative reviews in both the training and testing sets.\n",
    "- **Text content**: Reviews are presented as plain text and have been preprocessed to some extent. For example, HTML tags are removed, but the text retains its original punctuation and capitalization.\n",
    "- **Usage**: The dataset is commonly used to train models for binary sentiment classification, where the goal is to predict whether a given review is positive or negative based on its text content.\n",
    "\n",
    "### Applications\n",
    "\n",
    "- **Sentiment analysis**: The primary application of the IMDB dataset is in sentiment analysis, where it serves as a benchmark for various text classification algorithms.\n",
    "- **Natural language processing (NLP)**: The dataset is widely used in NLP research and applications, providing a basis for testing the effectiveness of different models and approaches in understanding human language.\n",
    "\n",
    "### Challenges\n",
    "\n",
    "The dataset is small, so it's hard to train a model from scratch.\n",
    "\n",
    "The following class is defined to traverse the IMDB dataset. The need to define this class arises from the fact that the IMDB dataset is split across a large number of files:\n"
   ]
  },
  {
   "cell_type": "code",
   "execution_count": null,
   "id": "56faab08-eff1-455a-bdb1-4e1eda3a9b78",
   "metadata": {},
   "outputs": [],
   "source": [
    "class IMDBDataset(Dataset):\n",
    "    def __init__(self, root_dir, train=True):\n",
    "        \"\"\"\n",
    "        root_dir: The base directory of the IMDB dataset.\n",
    "        train: A boolean flag indicating whether to use training or test data.\n",
    "        \"\"\"\n",
    "        self.root_dir = os.path.join(root_dir, \"train\" if train else \"test\")\n",
    "        self.neg_files = [os.path.join(self.root_dir, \"neg\", f) for f in os.listdir(os.path.join(self.root_dir, \"neg\")) if f.endswith('.txt')]\n",
    "        self.pos_files = [os.path.join(self.root_dir, \"pos\", f) for f in os.listdir(os.path.join(self.root_dir, \"pos\")) if f.endswith('.txt')]\n",
    "        self.files = self.neg_files + self.pos_files\n",
    "        self.labels = [0] * len(self.neg_files) + [1] * len(self.pos_files)\n",
    "        self.pos_inx=len(self.pos_files)\n",
    "\n",
    "    def __len__(self):\n",
    "        return len(self.files)\n",
    "\n",
    "    def __getitem__(self, idx):\n",
    "        file_path = self.files[idx]\n",
    "        label = self.labels[idx]\n",
    "        with open(file_path, 'r', encoding='utf-8') as file:\n",
    "            content = file.read()\n",
    "            \n",
    "        return label, content"
   ]
  },
  {
   "cell_type": "markdown",
   "id": "17a36190-ac1f-498f-a961-efabef7edad5",
   "metadata": {},
   "source": [
    "The following uses the `IMDBDataset` class defined above to create iterators for the train and test datasets:\n"
   ]
  },
  {
   "cell_type": "code",
   "execution_count": null,
   "id": "38dd9312-389d-4816-9e7e-2ebbcb1a5364",
   "metadata": {},
   "outputs": [],
   "source": [
    "root_dir = tempdir.name + '/' + 'imdb_dataset'\n",
    "train_iter = IMDBDataset(root_dir=root_dir, train=True)  # For training data\n",
    "test_iter = IMDBDataset(root_dir=root_dir, train=False)  # For test dataart=train_iter.pos_inx\n"
   ]
  },
  {
   "cell_type": "markdown",
   "id": "06b43c4e-373f-48c0-ab24-c6142322f68a",
   "metadata": {},
   "source": [
    "The following prints 20 samples from the training set:\n"
   ]
  },
  {
   "cell_type": "code",
   "execution_count": null,
   "id": "94941abc-f1eb-43a5-939c-4457b7d2fe81",
   "metadata": {},
   "outputs": [],
   "source": [
    "\n",
    "start=train_iter.pos_inx\n",
    "start=0\n",
    "for i in range(-10,10):\n",
    "    print(train_iter[start+i])"
   ]
  },
  {
   "cell_type": "markdown",
   "id": "f8a26d64-440c-4862-9483-e5bda439f70d",
   "metadata": {},
   "source": [
    "The following defines the mapping of numeric labels to positive and negative reviews:\n"
   ]
  },
  {
   "cell_type": "code",
   "execution_count": null,
   "id": "46461777-6d2d-4e11-8612-5f6ae7eb9e32",
   "metadata": {},
   "outputs": [],
   "source": [
    "imdb_label = {0: \" negative review\", 1: \"positive review\"}\n",
    "imdb_label[1]"
   ]
  },
  {
   "cell_type": "markdown",
   "id": "76b5ce6f-27cd-4a80-90c1-a058bff0d29b",
   "metadata": {},
   "source": [
    "The following checks to make sure that there are exactly 2 classes in the train dataset:\n"
   ]
  },
  {
   "cell_type": "code",
   "execution_count": null,
   "id": "77a6f0fb-2b99-4bb2-84eb-299bd12437c6",
   "metadata": {},
   "outputs": [],
   "source": [
    "num_class = len(set([label for (label, text) in train_iter ]))\n",
    "num_class"
   ]
  },
  {
   "cell_type": "markdown",
   "id": "e56111be-e704-4900-bcb7-1b23c96c9e52",
   "metadata": {},
   "source": [
    "The following are some token indices:\n"
   ]
  },
  {
   "cell_type": "code",
   "execution_count": null,
   "id": "8c7e8061-fc09-4a16-8838-7558fc49c057",
   "metadata": {},
   "outputs": [],
   "source": [
    "vocab([\"age\",\"hello\"])"
   ]
  },
  {
   "cell_type": "markdown",
   "id": "aaa4f185-21f6-4d4b-847b-8c1da4b68041",
   "metadata": {},
   "source": [
    "### Train and validate\n"
   ]
  },
  {
   "cell_type": "markdown",
   "id": "2ff0f43b-fb9a-4e51-8dae-b50ade1f6efe",
   "metadata": {},
   "source": [
    "The following converts the dataset into map-style datasets and then performs a random split to create separate training and validation datasets. The training dataset will contain 95% of the samples in the original training set, while the validation dataset will contain the remaining 5%. These datasets can be used for training and evaluating a machine learning model for text classification on the IMDB dataset. The final performance of the model will be evaluated on the hold-out test set:\n"
   ]
  },
  {
   "cell_type": "code",
   "execution_count": null,
   "id": "d49ef431-d17a-47db-ba83-9a443012047e",
   "metadata": {},
   "outputs": [],
   "source": [
    "\n",
    "# Convert the training and testing iterators to map-style datasets.\n",
    "train_dataset = to_map_style_dataset(train_iter)\n",
    "test_dataset = to_map_style_dataset(test_iter)\n",
    "\n",
    "# Determine the number of samples to be used for training and validation (5% for validation).\n",
    "num_train = int(len(train_dataset) * 0.95)\n",
    "\n",
    "# Randomly split the training dataset into training and validation datasets using `random_split`.\n",
    "# The training dataset will contain 95% of the samples, and the validation dataset will contain the remaining 5%.\n",
    "split_train_, split_valid_ = random_split(train_dataset, [num_train, len(train_dataset) - num_train])"
   ]
  },
  {
   "cell_type": "markdown",
   "id": "c45a2f97-d395-41ce-b04a-6c95fd56ee35",
   "metadata": {},
   "source": [
    "The following code checks if a CUDA-compatible GPU is available in the system using PyTorch, a popular deep learning framework. If a GPU is available, it assigns the device variable to \"cuda\" (which stands for CUDA, the parallel computing platform and application programming interface model developed by NVIDIA). If a GPU is not available, it assigns the device variable to \"cpu\" (which means the code will run on the CPU instead).\n"
   ]
  },
  {
   "cell_type": "code",
   "execution_count": null,
   "id": "dfc86784-6ba9-4e50-9690-70492c1bec67",
   "metadata": {},
   "outputs": [],
   "source": [
    "device = torch.device(\"cuda\" if torch.cuda.is_available() else \"cpu\")\n",
    "device"
   ]
  },
  {
   "cell_type": "markdown",
   "id": "92f4a2b7-c293-42b5-bdd8-0970734690a9",
   "metadata": {},
   "source": [
    "### Data loader\n"
   ]
  },
  {
   "cell_type": "markdown",
   "id": "a3331562-f1f5-4912-8a6a-95227c570e1b",
   "metadata": {},
   "source": [
    "In PyTorch, the **`collate_fn`** function is used in conjunction with data loaders to customize the way batches are created from individual samples. The provided code defines a `collate_batch` function in PyTorch, which is used with data loaders to customize batch creation from individual samples. It processes a batch of data, including labels and text sequences. It applies the `text_pipeline` function to preprocess the text. The processed data is then converted into PyTorch tensors and returned as a tuple containing the label tensor, text tensor, and offsets tensor representing the starting positions of each text sequence in the combined tensor. The function also ensures that the returned tensors are moved to the specified device (e.g., GPU) for efficient computation.\n"
   ]
  },
  {
   "cell_type": "code",
   "execution_count": null,
   "id": "c6596466-211b-4386-ab81-e1dfa1d17e64",
   "metadata": {},
   "outputs": [],
   "source": [
    "from torch.nn.utils.rnn import pad_sequence\n",
    "\n",
    "def collate_batch(batch):\n",
    "    label_list, text_list = [], []\n",
    "    for _label, _text in batch:\n",
    "        label_list.append(label_pipeline(_label))\n",
    "        text_list.append(torch.tensor(text_pipeline(_text), dtype=torch.int64))\n",
    "\n",
    "\n",
    "    label_list = torch.tensor(label_list, dtype=torch.int64)\n",
    "    text_list = pad_sequence(text_list, batch_first=True)\n",
    "\n",
    "\n",
    "    return label_list.to(device), text_list.to(device)"
   ]
  },
  {
   "cell_type": "markdown",
   "id": "dfcb76e3-9b34-443c-9794-c044107620f8",
   "metadata": {},
   "source": [
    "You convert the dataset objects to a data loader by applying the collate function.\n"
   ]
  },
  {
   "cell_type": "code",
   "execution_count": null,
   "id": "307adb50-0888-4345-983a-f15d8de23427",
   "metadata": {},
   "outputs": [],
   "source": [
    "BATCH_SIZE = 64\n",
    "\n",
    "train_dataloader = DataLoader(\n",
    "    split_train_, batch_size=BATCH_SIZE, shuffle=True, collate_fn=collate_batch\n",
    ")\n",
    "valid_dataloader = DataLoader(\n",
    "    split_valid_, batch_size=BATCH_SIZE, shuffle=True, collate_fn=collate_batch\n",
    ")\n",
    "test_dataloader = DataLoader(\n",
    "    test_dataset, batch_size=BATCH_SIZE, shuffle=True, collate_fn=collate_batch\n",
    ")"
   ]
  },
  {
   "cell_type": "markdown",
   "id": "90bd040f-5bdf-4e56-ab1a-c119fa5bcdc1",
   "metadata": {},
   "source": [
    "Let's check the what these data loaders generate:\n"
   ]
  },
  {
   "cell_type": "code",
   "execution_count": null,
   "id": "56e89212-6ff5-4c7d-9313-9533e32a7de8",
   "metadata": {},
   "outputs": [],
   "source": [
    "label,seqence=next(iter(valid_dataloader ))\n",
    "label,seqence"
   ]
  },
  {
   "cell_type": "markdown",
   "id": "ff4efba9-55c2-43da-90ce-9960cdae35fa",
   "metadata": {},
   "source": [
    "### Neural network\n"
   ]
  },
  {
   "cell_type": "markdown",
   "id": "d50c9211-41d6-4617-b9aa-b7f6e02f9389",
   "metadata": {},
   "source": [
    "This code defines a class called `TextClassifier` that represents a simple text classifier that uses an embedding layer, a hidden linear layer with a ReLU avtivation, and an output linear layer. The constructor takes the following arguments:\n",
    "\n",
    "- `num_class`: The number of classes to classify.\n",
    "- `freeze`: Whether to freeze the embedding layer.\n"
   ]
  },
  {
   "cell_type": "code",
   "execution_count": null,
   "id": "84973885-8670-4c92-a72c-5ed69bc78dc2",
   "metadata": {},
   "outputs": [],
   "source": [
    "from torch import nn\n",
    "\n",
    "class TextClassifier(nn.Module):\n",
    "    def __init__(self, num_classes,freeze=False):\n",
    "        super(TextClassifier, self).__init__()\n",
    "        self.embedding = nn.Embedding.from_pretrained(glove_embedding.vectors.to(device),freeze=freeze)\n",
    "        # An example of adding additional layers: A linear layer and a ReLU activation\n",
    "        self.fc1 = nn.Linear(in_features=100, out_features=128)\n",
    "        self.relu = nn.ReLU()\n",
    "        # The output layer that gives the final probabilities for the classes\n",
    "        self.fc2 = nn.Linear(in_features=128, out_features=num_classes)\n",
    "\n",
    "    def forward(self, x):\n",
    "        # Pass the input through the embedding layer\n",
    "        x = self.embedding(x)\n",
    "        # Here you can use a simple mean pooling\n",
    "\n",
    "        x = torch.mean(x, dim=1)\n",
    "        # Pass the pooled embeddings through the additional layers\n",
    "        x = self.fc1(x)\n",
    "        x = self.relu(x)\n",
    "        return self.fc2(x)\n",
    "\n",
    "\n",
    "\n",
    "\n"
   ]
  },
  {
   "cell_type": "markdown",
   "id": "709471c4-a1a2-46d5-9a18-d4c8f6b829fd",
   "metadata": {},
   "source": [
    "## Train the model on the full dataset\n",
    "\n",
    "The model can then be trained on labeled data from the IMDB dataset with two classes.\n"
   ]
  },
  {
   "cell_type": "markdown",
   "id": "d694c3a6-93cc-4ac7-bca8-437598676bcb",
   "metadata": {},
   "source": [
    "First, let's create the model.\n"
   ]
  },
  {
   "cell_type": "code",
   "execution_count": null,
   "id": "922474c5-bc40-4c33-adf9-4a20567c56fe",
   "metadata": {},
   "outputs": [],
   "source": [
    "model=TextClassifier(num_classes=2,freeze=True)\n",
    "model.to(device)"
   ]
  },
  {
   "cell_type": "markdown",
   "id": "d0503097-4199-47fc-b419-ee0801651388",
   "metadata": {},
   "source": [
    "The code line `predicted_label=model(text, offsets)` is used to obtain predicted labels from a model for a given input text and its corresponding offsets.\n"
   ]
  },
  {
   "cell_type": "code",
   "execution_count": null,
   "id": "8f50b548-50e0-4e9a-b254-42851b1e0b72",
   "metadata": {},
   "outputs": [],
   "source": [
    "model.eval()\n",
    "predicted_label=model(seqence)"
   ]
  },
  {
   "cell_type": "markdown",
   "id": "406d3ff1-a30f-4391-980b-cd61326249af",
   "metadata": {},
   "source": [
    "The following returns the shape of `predicted_label`. Because your dataset iterators are batching 64 inputs, `predicted_label` should return 64 rows:\n"
   ]
  },
  {
   "cell_type": "code",
   "execution_count": null,
   "id": "9d0bb125-4d1b-4ad8-8e0a-246a7e37e085",
   "metadata": {},
   "outputs": [],
   "source": [
    "print(predicted_label.shape)"
   ]
  },
  {
   "cell_type": "markdown",
   "id": "007b8f48-e012-45f7-a6c7-d83c398e4a76",
   "metadata": {},
   "source": [
    "For each input, the model outputs two logits corresponding to the two classes in the classification task. If the value of the first logit is greater than the second, the predicted class is class 0, which maps to a negative review. If the second logit is greater than the first, the predicted class is class 1, which maps to a positive review:\n"
   ]
  },
  {
   "cell_type": "code",
   "execution_count": null,
   "id": "74f76292-4e65-4a63-862b-b0f72f72a6dc",
   "metadata": {},
   "outputs": [],
   "source": [
    "predicted_label"
   ]
  },
  {
   "cell_type": "markdown",
   "id": "901c9db2-9f61-4336-b8ed-56597d33a4a3",
   "metadata": {},
   "source": [
    "The following **`predict`** function takes in a text, a text pipeline, and a model as inputs. It uses a pretrained model passed as a parameter to predict the label of the text for text classification on the IMDB dataset:\n"
   ]
  },
  {
   "cell_type": "code",
   "execution_count": null,
   "id": "e88c5f5d-a4c8-4066-b0cc-609395f6bb41",
   "metadata": {},
   "outputs": [],
   "source": [
    "def predict(text, model, text_pipeline):\n",
    "    with torch.no_grad():\n",
    "        text = torch.unsqueeze(torch.tensor(text_pipeline(text)),0).to(device)\n",
    "\n",
    "        output = model(text)\n",
    "        return imdb_label[output.argmax(1).item()]"
   ]
  },
  {
   "cell_type": "code",
   "execution_count": null,
   "id": "d575ecdf-df54-4992-9991-8ba9a0fecdef",
   "metadata": {},
   "outputs": [],
   "source": [
    "predict(\"the is a good movie\",model,text_pipeline )"
   ]
  },
  {
   "cell_type": "markdown",
   "id": "0016efaf-8768-4992-ba31-2407bfb05b9a",
   "metadata": {},
   "source": [
    "You can create a function to evaluate the model's accuracy on a dataset:\n"
   ]
  },
  {
   "cell_type": "code",
   "execution_count": null,
   "id": "0bb0a3b1-c386-4637-8b7f-73594f333f28",
   "metadata": {},
   "outputs": [],
   "source": [
    "def evaluate(dataloader, model, device):\n",
    "    model.eval()\n",
    "    correct = 0\n",
    "    total = 0\n",
    "    with torch.no_grad():\n",
    "        for label, text in dataloader:\n",
    "            label, text = label.to(device), text.to(device)\n",
    "            outputs = model(text)\n",
    "            _, predicted = torch.max(outputs.data, 1)\n",
    "            total += label.size(0)\n",
    "            correct += (predicted == label).sum().item()\n",
    "    accuracy = 100 * correct / total\n",
    "    return accuracy"
   ]
  },
  {
   "cell_type": "markdown",
   "id": "1492509c-a7c8-4a2c-9ff2-5aff5197bbf0",
   "metadata": {},
   "source": [
    "The following evaluates the performance of your model on the test set:\n"
   ]
  },
  {
   "cell_type": "code",
   "execution_count": null,
   "id": "0ccef96d-361d-4674-b6e7-dae781711f4d",
   "metadata": {},
   "outputs": [],
   "source": [
    "evaluate(test_dataloader , model, device)"
   ]
  },
  {
   "cell_type": "markdown",
   "id": "989d361c-fe60-4bbc-abe0-41d7f3c1c1c4",
   "metadata": {},
   "source": [
    "Note that the current performance of the model is no better than average. This outcome is expected, considering that the model has not undergone any training yet.\n"
   ]
  },
  {
   "cell_type": "markdown",
   "id": "5f1ab3ce-ebd4-4f8a-abfa-a4d983c1721c",
   "metadata": {},
   "source": [
    "## Train the model\n",
    "\n",
    "The following defines the training function used to train the model:\n"
   ]
  },
  {
   "cell_type": "code",
   "execution_count": null,
   "id": "683fc413-de8a-44eb-bf5a-39b893b9d577",
   "metadata": {},
   "outputs": [],
   "source": [
    "def train_model(model, optimizer, criterion, train_dataloader, valid_dataloader, epochs=100, model_name=\"my_modeldrop\"):\n",
    "    cum_loss_list = []\n",
    "    acc_epoch = []\n",
    "    best_acc = 0\n",
    "    file_name = model_name\n",
    "    \n",
    "    for epoch in tqdm(range(1, epochs + 1)):\n",
    "        model.train()\n",
    "        cum_loss = 0\n",
    "        for _, (label, text) in enumerate(train_dataloader):            \n",
    "            optimizer.zero_grad()\n",
    "            predicted_label = model(text)\n",
    "            loss = criterion(predicted_label, label)\n",
    "            loss.backward()\n",
    "            torch.nn.utils.clip_grad_norm_(model.parameters(), 0.1)\n",
    "            optimizer.step()\n",
    "            cum_loss += loss.item()\n",
    "        #print(\"Loss:\", cum_loss)\n",
    "        cum_loss_list.append(cum_loss)\n",
    "        acc_val = evaluate(valid_dataloader, model, device)\n",
    "        acc_epoch.append(acc_val)\n",
    "        \n",
    "        if acc_val > best_acc:\n",
    "            best_acc = acc_val\n",
    "            print(f\"New best accuracy: {acc_val:.4f}\")\n",
    "            #torch.save(model.state_dict(), f\"{model_name}.pth\")\n",
    "    \n",
    "    #save_list_to_file(cum_loss_list, f\"{model_name}_loss.pkl\")\n",
    "    #save_list_to_file(acc_epoch, f\"{model_name}_acc.pkl\")\n"
   ]
  },
  {
   "cell_type": "markdown",
   "id": "3bdc4155-4d25-4a7f-b1a0-2c0ee9d224f3",
   "metadata": {},
   "source": [
    "---\n"
   ]
  },
  {
   "cell_type": "markdown",
   "id": "71cdb072-d3be-40a5-ada7-288ce89b99c4",
   "metadata": {},
   "source": [
    "The following sets the learning rate (LR) to 1, which determines the step size at which the optimizer updates the model's parameters during training. The CrossEntropyLoss criterion is used to calculate the loss between the model's predicted outputs and the ground truth labels. This loss function is commonly employed for multi-class classification tasks.\n",
    "\n",
    "The chosen optimizer is Stochastic Gradient Descent (SGD), which optimizes the model's parameters based on the computed gradients with respect to the loss function. The SGD optimizer uses the specified learning rate to control the size of the weight updates.\n",
    "\n",
    "Additionally, a learning rate scheduler is defined using StepLR. This scheduler adjusts the learning rate during training, reducing it by a factor (gamma) of 0.1 after every epoch (step) to improve convergence and fine-tune the model's performance. These components together form the essential setup for training a neural network using the specified learning rate, loss criterion, optimizer, and learning rate scheduler.\n",
    "\n",
    "For the sake of time efficiency, the number of epochs has been set to 2. This is to give you a practical demonstration of what the training process looks like. However, if you were to train this model in a real-world scenario, you would likely increase the number of epochs to a larger figure, such as 100 or more. Given the reduced training set defined earlier, it takes approximately 2 minutes to complete 2 epochs of training:\n"
   ]
  },
  {
   "cell_type": "code",
   "execution_count": null,
   "id": "129de8bd-94ce-4072-a567-f24473570a53",
   "metadata": {},
   "outputs": [],
   "source": [
    "LR=1\n",
    "\n",
    "criterion = torch.nn.CrossEntropyLoss()\n",
    "optimizer = torch.optim.SGD(model.parameters(), lr=LR)\n",
    "scheduler = torch.optim.lr_scheduler.StepLR(optimizer, 1.0, gamma=0.1)"
   ]
  },
  {
   "cell_type": "markdown",
   "id": "67f8166c-12fc-4bd0-b500-669e554b46ae",
   "metadata": {},
   "source": [
    "You have pretrained the model for 300 epochs using a GPU and saved this model for your convenience. However, to demonstrate the training process, the following code has been included that trains the model for just two epochs. Please note that you have limited the number of epochs to two because training on a CPU can be time-consuming. Even with just two epochs, you can expect the following code to run for approximately one minute.\n"
   ]
  },
  {
   "cell_type": "code",
   "execution_count": null,
   "id": "4d540170-6440-4930-87b4-58c581b334b0",
   "metadata": {},
   "outputs": [],
   "source": [
    "model_name=\"model_imdb_freeze_true2\"\n",
    "train_model(model, optimizer, criterion, train_dataloader, valid_dataloader, epochs=2, model_name=model_name)"
   ]
  },
  {
   "cell_type": "markdown",
   "id": "ce22ea05-118d-45ee-9e63-64bc06ac6e98",
   "metadata": {},
   "source": [
    "Instead of evaluating the model trained on 2 epochs, let's load the pretrained model that was trained for 300 epochs:\n"
   ]
  },
  {
   "cell_type": "code",
   "execution_count": null,
   "id": "a916812e-de2e-4415-a6e9-38c6702e9820",
   "metadata": {},
   "outputs": [],
   "source": [
    "\n",
    "%%capture \n",
    "!wget https://cf-courses-data.s3.us.cloud-object-storage.appdomain.cloud/ZvhVWJU0flC7BmU1jjYxjg/model-imdb-freeze-true2.pth\n",
    "!wget https://cf-courses-data.s3.us.cloud-object-storage.appdomain.cloud/2RdN-JG4Rm5Gx3UNtOP4NA/model-imdb-freeze-true2-acc.pkl\n",
    "!wget https://cf-courses-data.s3.us.cloud-object-storage.appdomain.cloud/8qoGvWk0BdXRGoFAOT-dAw/model-imdb-freeze-true2-loss.pkl\n"
   ]
  },
  {
   "cell_type": "markdown",
   "id": "edcd36b4-9bc9-421e-a028-039777f5743d",
   "metadata": {},
   "source": [
    "Let's plot the cost and accuracy for each epoch for the pretrained model that was trained for 300 epochs. From the plot, it becomes evident that with just a few epochs, the accuracy exhibits significant volatility.\n"
   ]
  },
  {
   "cell_type": "code",
   "execution_count": null,
   "id": "783b6205-4c25-4a1e-b965-c421c22255e8",
   "metadata": {},
   "outputs": [],
   "source": [
    "cum_loss_list=load_list_from_file(model_name.replace('_','-') + \"-loss.pkl\")\n",
    "acc_epoch=load_list_from_file(model_name.replace('_','-') + \"-acc.pkl\")\n",
    "plot(cum_loss_list,acc_epoch)"
   ]
  },
  {
   "cell_type": "markdown",
   "id": "4bd020e9-6a96-4810-8080-b4683b892178",
   "metadata": {},
   "source": [
    "Here, you load the model that has been trained for you. Please comment out these lines if you want to train the model yourself.\n"
   ]
  },
  {
   "cell_type": "code",
   "execution_count": null,
   "id": "a1c1c22c-5d36-4092-bdd2-69943cafb5a7",
   "metadata": {},
   "outputs": [],
   "source": [
    "model.load_state_dict(torch.load(model_name.replace('_','-') + \".pth\", map_location=device))\n",
    "model.eval()"
   ]
  },
  {
   "cell_type": "markdown",
   "id": "b9511990-1819-4bf5-a8d3-3078c9fd6fe4",
   "metadata": {},
   "source": [
    "The following evaluates the model on the test data. The pretrained model achieves an accuracy of 66%.\n"
   ]
  },
  {
   "cell_type": "code",
   "execution_count": null,
   "id": "47d22e95-b8cb-4b2e-b15e-6cbb175dd801",
   "metadata": {},
   "outputs": [],
   "source": [
    "evaluate(test_dataloader , model, device)"
   ]
  },
  {
   "cell_type": "markdown",
   "id": "aa57458d-c42f-4786-a6f9-ee84f43db27e",
   "metadata": {},
   "source": [
    "##  Low-Rank Adaptation (LoRA)\n",
    "\n",
    "PyTorch and the Hugging Face library provide robust tools for model manipulation with LoRA, but they are not intuitive. In this section, you delve into building a LoRA (Low-Rank Adaptation) implementation from scratch using PyTorch. LoRA is a general method, but it's commonly applied to the Attention layer. For the sake of simplicity, in this lab, you apply it to a Vanilla neural network. This decision is made because accessing the Attention Parameters in the PyTorch Encoder module can be challenging.\n"
   ]
  },
  {
   "cell_type": "markdown",
   "id": "7e9790b3-d099-4b03-98dc-69987ada7aa7",
   "metadata": {},
   "source": [
    "### LoRA\n",
    "1) For any arbitrary layer of a network, you have the model with pretrained parameters $ W_0 $, which are the parameters of the model. If you only consider the attention parameters for each layer, at a minimum $ 4 \\times m \\times n$ for each layer. For many models, this can reach in the trillions of learnable parameters. Each time you fine-tune a new dataset, you have to store trillions of parameters.\n",
    "\n",
    "2) $ \\Delta W $ represents two matrices $ B $ and $ A $, where $ B $ and $ A $ are constrained such that $ B \\in \\mathbb{R}^{m \\times r} $, $ A \\in \\mathbb{R}^{r \\times n} $, and $ r \\leq \\min(m, n) $. The total number of parameters is $ A $ and $ B $ is much smaller than $ W_1$  and much easier to store.\n",
    "\n",
    "$ W_1\\approx W_0 + \\Delta  W = W_0 + BA $\n",
    "\n",
    "\n",
    "\n",
    "3) To train and predict, the forward pass holds $W_0$ constant.\n",
    "\n",
    "$h = W_0 + \\Delta W  = W_0x + BAx $\n",
    "\n",
    "\n",
    "\n",
    "\n",
    "\n",
    "To scale $\\Delta W \\times \\dfrac{\\alpha'}{r}$, where $\\alpha$ is a constant in $ r $.  Adjusting $\\alpha'$ is similar to tuning the learning rate if the initialization is properly scaled. Therefore, you set $\\alpha'$ to the first $ r $ you try and do not tune it further; just use $\\alpha$. This scaling reduces the need to retune hyperparameters. The final form is:\n",
    "\n",
    "$h =  W_0x +  \\dfrac{\\alpha'}{r} BAx=  W_0x +  \\alpha BAx $\n",
    "\n",
    "The following example illustrates the process.\n",
    "\n",
    "\n",
    "$\n",
    "W_0 + BA = \n",
    "\\begin{bmatrix}\n",
    "w_{11} & w_{12} & w_{13} & w_{14} \\\\\\\\\\\\\\\\\\\\\\\\\\\\\\\\\\\\\\\\\\\\\n",
    "w_{21} & w_{22} & w_{23} & w_{24} \\\\\\\\\\\\\n",
    "w_{31} & w_{32} & w_{33} & w_{34} \\\\\\\\\\\\\n",
    "w_{41} & w_{42} & w_{43} & w_{44} \\\\\\\\\\\\\n",
    "\\end{bmatrix} +\n",
    "\\begin{bmatrix}\n",
    "a_1 \\\\\\\\\\\\\n",
    "a_2 \\\\\\\\\\\\\n",
    "a_3 \\\\\\\\\\\\\n",
    "a_4 \\\\\\\\\\\\\n",
    "\\end{bmatrix}\n",
    "\\begin{bmatrix}\n",
    "b_1 & b_2 & b_3 & b_4 \\\\\\\\\n",
    "\\end{bmatrix}\n",
    "$\n",
    "\n",
    "This illustrates the product of matrices $ A $ and $ B $, denoted as $ AB $, which can be added to $ W_0 $. However, the resulting matrix $ W_0 + AB $ is limited depending on the dimensions of $ A $ and $ B $. This limitation is due to the concept of rank.\n",
    "\n"
   ]
  },
  {
   "cell_type": "markdown",
   "id": "c2cbb2b2-f586-4f20-8f83-c82883ef4a36",
   "metadata": {},
   "source": [
    "### Rank\n",
    "The rank of a matrix is the number of dimensions the rows of the matrix \"live in.\"  A square matrix is said to be **full rank** if its <a href='https://en.wikipedia.org/wiki/Rank_(linear_algebra)?utm_medium=Exinfluencer&utm_source=Exinfluencer&utm_content=000026UJ&utm_term=10006555&utm_id=NA-SkillsNetwork-Channel-SkillsNetworkCoursesIBMML0187ENSkillsNetwork31430127-2022-01-01'>rank</a> is equal to the number of its rows or columns. Let's make this idea more intuitive with an example.\n"
   ]
  },
  {
   "cell_type": "code",
   "execution_count": null,
   "id": "cdfd35b0-5359-4220-8153-a5deb5cd0fe2",
   "metadata": {},
   "outputs": [],
   "source": [
    "from sympy import Matrix, init_printing,Symbol\n",
    "from numpy.linalg import qr,eig,inv,matrix_rank,inv, norm\n",
    "from scipy.linalg import null_space\n",
    "from sympy import Matrix, init_printing,Symbol\n",
    "init_printing()"
   ]
  },
  {
   "cell_type": "code",
   "execution_count": null,
   "id": "b11899f4-2b44-4294-a294-1653e7f2d886",
   "metadata": {},
   "outputs": [],
   "source": [
    "def plot_matrix_and_subspace(F):\n",
    "    assert F.shape[0] == 3, \"Matrix F must have rows equal to 3 for 3D visualization.\"\n",
    "    \n",
    "    ax = plt.figure().add_subplot(projection='3d')\n",
    "    \n",
    "    # Plot each column vector of F as a point and line from the origin\n",
    "    for i in range(F.shape[1]):\n",
    "        ax.quiver(0, 0, 0, F[0, i], F[1, i], F[2, i], color='blue', arrow_length_ratio=0.1, label=f'Column {i+1}')\n",
    "\n",
    "    if F.shape[1] == 2:\n",
    "        # Calculate the normal to the plane spanned by the columns of F if they are exactly two\n",
    "        normal_vector = np.cross(F[:, 0], F[:, 1])\n",
    "        # Plot the plane\n",
    "        xx, yy = np.meshgrid(np.linspace(-3, 3, 10), np.linspace(-3, 3, 10))\n",
    "        zz = (-normal_vector[0] * xx - normal_vector[1] * yy) / normal_vector[2] if normal_vector[2] != 0 else 0\n",
    "        ax.plot_surface(xx, yy, zz, alpha=0.5, color='green', label='Spanned Plane')\n",
    "\n",
    "    # Set plot limits and labels\n",
    "    ax.set_xlim([-3, 3])\n",
    "    ax.set_ylim([-3, 3])\n",
    "    ax.set_zlim([-3, 3])\n",
    "    ax.set_xlabel('$x_{1}$')\n",
    "    ax.set_ylabel('$x_{2}$')\n",
    "    ax.set_zlabel('$x_{3}$')\n",
    "    #ax.legend()\n",
    "\n",
    "    plt.show()"
   ]
  },
  {
   "cell_type": "code",
   "execution_count": null,
   "id": "16fbf7fa-b3c9-4b43-a2c3-521426a02b81",
   "metadata": {},
   "outputs": [],
   "source": [
    "def plot_matrix_and_subspace(F):\n",
    "    assert F.shape[0] == 3, \"Matrix F must have 3 rows to represent 3D space.\"\n",
    "\n",
    "    ax = plt.figure().add_subplot(projection='3d')\n",
    "    \n",
    "    # Plot each column vector of F\n",
    "    for i in range(F.shape[1]):\n",
    "        ax.quiver(0, 0, 0, F[0, i], F[1, i], F[2, i], color='blue', arrow_length_ratio=0.1, label=f'Column {i+1}')\n",
    "\n",
    "    # Calculate the null space of the transpose of F\n",
    "    normal_vector = null_space(F.T)\n",
    "    \n",
    "    # Check that the null space is 1-dimensional\n",
    "    if normal_vector.shape[1] == 1:\n",
    "        normal_vector = normal_vector[:, 0]  # Simplify the array to 1D\n",
    "        # Create a meshgrid for the plane\n",
    "        xx, yy = np.meshgrid(np.linspace(-3, 3, 10), np.linspace(-3, 3, 10))\n",
    "        # Calculate corresponding z coordinates based on the plane equation ax + by + cz = 0\n",
    "        zz = (-normal_vector[0] * xx - normal_vector[1] * yy) / normal_vector[2] if normal_vector[2] != 0 else 0\n",
    "        ax.plot_surface(xx, yy, zz, alpha=0.5, color='green', label='Spanned Plane')\n",
    "    else:\n",
    "        print(\"The null space is not 1-dimensional, so a unique plane cannot be determined.\")\n",
    "\n",
    "    # Set plot limits and labels\n",
    "    ax.set_xlim([-3, 3])\n",
    "    ax.set_ylim([-3, 3])\n",
    "    ax.set_zlim([-3, 3])\n",
    "    ax.set_xlabel('X axis')\n",
    "    ax.set_ylabel('Y axis')\n",
    "    ax.set_zlabel('Z axis')\n",
    "    #ax.legend()\n",
    "\n",
    "    plt.show()\n",
    "\n"
   ]
  },
  {
   "cell_type": "markdown",
   "id": "20d15517-49f5-46a9-a8df-44d3000c5ec9",
   "metadata": {},
   "source": [
    "In the context of Low-Rank Adaptation (LoRA), where $B \\in \\mathbb{R}^{d \\times r}$, the matrix $B$:\n",
    "\n",
    "\n",
    "\n"
   ]
  },
  {
   "cell_type": "code",
   "execution_count": null,
   "id": "0aad040d-edd7-4cc3-9abe-b70d918effa3",
   "metadata": {},
   "outputs": [
    {
     "data": {
      "text/latex": [
       "$\\displaystyle \\left[\\begin{matrix}1 & 0\\\\0 & 1\\\\0 & 0\\end{matrix}\\right]$"
      ],
      "text/plain": [
       "⎡1  0⎤\n",
       "⎢    ⎥\n",
       "⎢0  1⎥\n",
       "⎢    ⎥\n",
       "⎣0  0⎦"
      ]
     },
     "execution_count": 6,
     "metadata": {},
     "output_type": "execute_result"
    }
   ],
   "source": [
    "B=torch.tensor([[1,0],[0,1],[0,0]]).numpy()\n",
    "\n",
    "Matrix(B)\n"
   ]
  },
  {
   "cell_type": "markdown",
   "id": "e2adb109-09e9-40a9-bfad-592daf74202b",
   "metadata": {},
   "source": [
    "This $3 \\times 2$ matrix has columns that span a 2-dimensional subspace in $\\mathbb{R}^3$. Specifically, the columns of $B$ are:\n",
    "\n",
    "- $\\mathbf{b}_1 = \\begin{bmatrix} 1 \\\\\\\\\\\\\\\\\\\\\\\\\\\\\\\\\\\\\\\\ 0 \\\\ 0 \\end{bmatrix}$\n",
    "- $\\mathbf{b}_2 = \\begin{bmatrix} 0 \\\\\\\\ 1 \\\\ 0 \\end{bmatrix}$\n",
    "\n",
    "These columns are standard basis vectors for the $xy$-plane in $\\mathbb{R}^3$, and, thus, they span the $xy$-plane shown in green in the following image. Muliplying each column vector in blue by a scaler always falls in the plane.\n"
   ]
  },
  {
   "cell_type": "code",
   "execution_count": null,
   "id": "a27ed1de-f40e-463f-9112-7a52826fd9d0",
   "metadata": {},
   "outputs": [
    {
     "data": {
      "image/png": "[encoded data removed]",
      "text/plain": [
       "<Figure size 640x480 with 1 Axes>"
      ]
     },
     "metadata": {},
     "output_type": "display_data"
    }
   ],
   "source": [
    " plot_matrix_and_subspace(B)"
   ]
  },
  {
   "cell_type": "markdown",
   "id": "0e79a867-2317-4156-94fa-f9a6d403672b",
   "metadata": {},
   "source": [
    "In this scenario, the vectors, despite each having three components, can reach any point on the two-dimensional green plane depicted in the image. These vectors span the green plane, which resides within a two-dimensional subspace. This subspace's dimension, also known as its 'rank', is two—corresponding to the dimensionality of the plane. If the rank were three, any point in the 3D space could be reached by some combination of the columns of $𝐵$. The rank of a matrix can be determined by using the matrix_rank function provided by NumPy.\n"
   ]
  },
  {
   "cell_type": "code",
   "execution_count": null,
   "id": "40522c51-5c68-41fe-86dd-c808d607dcc4",
   "metadata": {},
   "outputs": [
    {
     "data": {
      "text/plain": [
       "2"
      ]
     },
     "execution_count": 8,
     "metadata": {},
     "output_type": "execute_result"
    }
   ],
   "source": [
    "matrix_rank(B)"
   ]
  },
  {
   "cell_type": "markdown",
   "id": "303797c4-810d-4585-853b-c659571bc3b3",
   "metadata": {},
   "source": [
    "Here, you plot a different matrix where the matrix spans a different plane, but the rank remains two.\n"
   ]
  },
  {
   "cell_type": "code",
   "execution_count": null,
   "id": "ab0a1403-23d1-4182-b808-a768e74ae2e1",
   "metadata": {},
   "outputs": [
    {
     "data": {
      "image/png": "[encoded data removed]",
      "text/plain": [
       "<Figure size 640x480 with 1 Axes>"
      ]
     },
     "metadata": {},
     "output_type": "display_data"
    },
    {
     "name": "stdout",
     "output_type": "stream",
     "text": [
      "rank of B 2\n"
     ]
    }
   ],
   "source": [
    "B_=torch.tensor([[1,0],[-2,1],[0,1]]).numpy()\n",
    "plot_matrix_and_subspace(B_)\n",
    "print(\"rank of B\",matrix_rank(B_))"
   ]
  },
  {
   "cell_type": "code",
   "execution_count": null,
   "id": "b9fca88b-3991-4682-b761-6a3651ea35b3",
   "metadata": {},
   "outputs": [
    {
     "data": {
      "text/plain": [
       "2"
      ]
     },
     "execution_count": 10,
     "metadata": {},
     "output_type": "execute_result"
    }
   ],
   "source": [
    "matrix_rank(B)"
   ]
  },
  {
   "cell_type": "markdown",
   "id": "c60afacc-7e79-40eb-abc2-e9f32b229f52",
   "metadata": {},
   "source": [
    "Here, you present the matrix ```A```. The rank of this matrix is also two.\n"
   ]
  },
  {
   "cell_type": "code",
   "execution_count": null,
   "id": "74925e1c-9f93-4235-969a-43368172f25a",
   "metadata": {},
   "outputs": [
    {
     "data": {
      "text/latex": [
       "$\\displaystyle \\left[\\begin{matrix}1 & 1 & -1 & 1 & 0\\\\-2 & 2 & 2 & 0 & 1\\end{matrix}\\right]$"
      ],
      "text/plain": [
       "⎡1   1  -1  1  0⎤\n",
       "⎢               ⎥\n",
       "⎣-2  2  2   0  1⎦"
      ]
     },
     "execution_count": 11,
     "metadata": {},
     "output_type": "execute_result"
    }
   ],
   "source": [
    "A=torch.tensor([[1,1,-1,1,0],[-2,2,2,0,1]]).numpy()\n",
    "Matrix(A)\n"
   ]
  },
  {
   "cell_type": "code",
   "execution_count": null,
   "id": "45e360fb-91fa-41c9-9cab-9aa299a9bc82",
   "metadata": {},
   "outputs": [
    {
     "data": {
      "text/plain": [
       "2"
      ]
     },
     "execution_count": 12,
     "metadata": {},
     "output_type": "execute_result"
    }
   ],
   "source": [
    "matrix_rank(A)"
   ]
  },
  {
   "cell_type": "markdown",
   "id": "19e16065-f067-4ede-9f0d-9adc7be8c89b",
   "metadata": {},
   "source": [
    "For the matrices $ C = BA $, if $B $ and $ A $ both have a rank of $ r $:\n"
   ]
  },
  {
   "cell_type": "code",
   "execution_count": null,
   "id": "943ac79f-bc55-448b-ad11-3f72765424fc",
   "metadata": {},
   "outputs": [
    {
     "data": {
      "text/latex": [
       "$\\displaystyle \\left[\\begin{matrix}1 & 1 & -1 & 1 & 0\\\\-2 & 2 & 2 & 0 & 1\\\\0 & 0 & 0 & 0 & 0\\end{matrix}\\right]$"
      ],
      "text/plain": [
       "⎡1   1  -1  1  0⎤\n",
       "⎢               ⎥\n",
       "⎢-2  2  2   0  1⎥\n",
       "⎢               ⎥\n",
       "⎣0   0  0   0  0⎦"
      ]
     },
     "execution_count": 13,
     "metadata": {},
     "output_type": "execute_result"
    }
   ],
   "source": [
    "C=B@A\n",
    "Matrix(C)\n"
   ]
  },
  {
   "cell_type": "markdown",
   "id": "9fbc1802-c83c-4965-8993-302fb275af7c",
   "metadata": {},
   "source": [
    " The columns of $ C $ will have the same rank as $ B $. Furthermore, the span of the columns of $ C $ will be the same as the span of the columns of $ B $.\n"
   ]
  },
  {
   "cell_type": "code",
   "execution_count": null,
   "id": "012597b4-ccd0-4f26-aa61-802cf2f25530",
   "metadata": {},
   "outputs": [
    {
     "name": "stdout",
     "output_type": "stream",
     "text": [
      "rank of C 2\n"
     ]
    },
    {
     "data": {
      "image/png": "[encoded data removed]",
      "text/plain": [
       "<Figure size 640x480 with 1 Axes>"
      ]
     },
     "metadata": {},
     "output_type": "display_data"
    }
   ],
   "source": [
    "print(\"rank of C\",matrix_rank(C))\n",
    "plot_matrix_and_subspace(C)"
   ]
  },
  {
   "cell_type": "markdown",
   "id": "5715a53d-9ed5-4a8a-9d55-7ba519239b79",
   "metadata": {},
   "source": [
    "### Understanding LoRA in PyTorch\n",
    "\n",
    "LoRA (Low-Rank Adaptation) is relatively simple to initialize in PyTorch. You initialize LoRA with the dimensions of the input (`in_dim`), $ m $, output (`out_dim`), $n $, a rank (`rank`), $ r $, and a scaling factor `alpha`. The parameters are initialized as follows:\n",
    "\n",
    "```\n",
    "self.A = torch.nn.Parameter(torch.randn(in_dim, rank) * std_dev)\n",
    "self.B = torch.nn.Parameter(torch.zeros(rank, out_dim))\n",
    "```\n",
    "\n",
    "The use of  ```nn.Parameter``` makes these values learnable parameters.\n",
    "\n",
    "In the forward function, LoRA uses the notation $BAx$ PyTorch, the input vector is a row, so the output becomes $x^TA^TB^T$ will drop the trapose from now on. The forward pass is implemented as:\n",
    "```\n",
    "x = self.alpha * (x @ self.A @ self.B)\n",
    "```\n",
    "The use of  ```nn.Parameter``` makes these values learnable parameters.\n",
    "\n"
   ]
  },
  {
   "cell_type": "code",
   "execution_count": null,
   "id": "d1b2bfe3-0eac-4d64-9003-3ee5cbadb39a",
   "metadata": {},
   "outputs": [],
   "source": [
    "class LoRALayer(torch.nn.Module):\n",
    "    def __init__(self, in_dim, out_dim, rank, alpha):\n",
    "        super().__init__()\n",
    "        std_dev = 1 / torch.sqrt(torch.tensor(rank).float())\n",
    "        self.A = torch.nn.Parameter(torch.randn(in_dim, rank) * std_dev)\n",
    "        \n",
    "        self.B = torch.nn.Parameter(torch.zeros(rank, out_dim))\n",
    "        self.alpha = alpha\n",
    "\n",
    "    def forward(self, x):\n",
    "        x = self.alpha * (x @ self.A @ self.B)\n",
    "        return x"
   ]
  },
  {
   "cell_type": "markdown",
   "id": "587ad4e6-3125-4c21-85bc-baccf8709275",
   "metadata": {},
   "source": [
    "This class ```LinearWithLoRA```  copies the original linear model and creates a ```LoRALayer``` object. \n",
    "```\n",
    "self.linear = linear.to(device)\n",
    " self.lora = LoRALayer(\n",
    "            linear.in_features, linear.out_features, rank, alpha\n",
    "        ).to(device)\n",
    "```\n",
    "\n",
    "Then, in the forward method apply both the original linear model and the output Lora model to the input x and add them together ```self.linear(x) + self.lora(x)```. This corresponds to:\n",
    "\n",
    " $xW_0 + xAB $\n"
   ]
  },
  {
   "cell_type": "code",
   "execution_count": null,
   "id": "ace505f3-b065-498f-a032-2bff45e0ce41",
   "metadata": {},
   "outputs": [],
   "source": [
    "class LinearWithLoRA(torch.nn.Module):\n",
    "    def __init__(self, linear, rank, alpha):\n",
    "        super().__init__()\n",
    "        self.linear = linear.to(device)\n",
    "        self.lora = LoRALayer(\n",
    "            linear.in_features, linear.out_features, rank, alpha\n",
    "        ).to(device)\n",
    "\n",
    "    def forward(self, x):\n",
    "        \n",
    "        return self.linear(x) + self.lora(x)"
   ]
  },
  {
   "cell_type": "markdown",
   "id": "ba09360d-2f5d-4bac-b31c-7abba9680322",
   "metadata": {},
   "source": [
    "### Applying LoRA\n",
    "To fine-tune with LoRA, first, load a pretrained TextClassifier model with LoRA (while freezing its layers), load its pretrained state from a file, and then disable gradient updates for all of its parameters to prevent further training. Here, you will load a model that was pretrained on the AG NEWS dataset, which is a dataset that has 4 classes. Note that when you initialize this model, you set `num_classes` to 4. Moreover, the pretrained AG_News model was trained with the embedding layer unfrozen. Hence you will initialize the model with `freeze=False`. Although you are initializing the model with layers unfrozen and the wrong number of classes for your task, you will make modifications to the model later on that correct this:\n"
   ]
  },
  {
   "cell_type": "code",
   "execution_count": null,
   "id": "d9b92561-1134-4597-8243-d7e4dc5c2a8b",
   "metadata": {},
   "outputs": [
    {
     "ename": "NameError",
     "evalue": "name 'TextClassifier' is not defined",
     "output_type": "error",
     "traceback": [
      "\u001b[1;31m---------------------------------------------------------------------------\u001b[0m",
      "\u001b[1;31mNameError\u001b[0m                                 Traceback (most recent call last)",
      "Cell \u001b[1;32mIn[24], line 4\u001b[0m\n\u001b[0;32m      1\u001b[0m \u001b[38;5;28;01mfrom\u001b[39;00m\u001b[38;5;250m \u001b[39m\u001b[38;5;21;01murllib\u001b[39;00m\u001b[38;5;21;01m.\u001b[39;00m\u001b[38;5;21;01mrequest\u001b[39;00m\u001b[38;5;250m \u001b[39m\u001b[38;5;28;01mimport\u001b[39;00m urlopen\n\u001b[0;32m      2\u001b[0m \u001b[38;5;28;01mimport\u001b[39;00m\u001b[38;5;250m \u001b[39m\u001b[38;5;21;01mio\u001b[39;00m\n\u001b[1;32m----> 4\u001b[0m model_lora\u001b[38;5;241m=\u001b[39m\u001b[43mTextClassifier\u001b[49m(num_classes\u001b[38;5;241m=\u001b[39m\u001b[38;5;241m4\u001b[39m,freeze\u001b[38;5;241m=\u001b[39m\u001b[38;5;28;01mFalse\u001b[39;00m)\n\u001b[0;32m      5\u001b[0m model_lora\u001b[38;5;241m.\u001b[39mto(device)\n\u001b[0;32m      7\u001b[0m urlopened \u001b[38;5;241m=\u001b[39m urlopen(\u001b[38;5;124m'\u001b[39m\u001b[38;5;124mhttps://cf-courses-data.s3.us.cloud-object-storage.appdomain.cloud/uGC04Pom651hQs1XrZ0NsQ/my-model-freeze-false.pth\u001b[39m\u001b[38;5;124m'\u001b[39m)\n",
      "\u001b[1;31mNameError\u001b[0m: name 'TextClassifier' is not defined"
     ]
    }
   ],
   "source": [
    "from urllib.request import urlopen\n",
    "import io\n",
    "\n",
    "model_lora=TextClassifier(num_classes=4,freeze=False)\n",
    "model_lora.to(device)\n",
    "\n",
    "urlopened = urlopen('https://cf-courses-data.s3.us.cloud-object-storage.appdomain.cloud/uGC04Pom651hQs1XrZ0NsQ/my-model-freeze-false.pth')\n",
    "\n",
    "stream = io.BytesIO(urlopened.read())\n",
    "state_dict = torch.load(stream, map_location=device)\n",
    "model_lora.load_state_dict(state_dict)\n",
    "\n",
    "# Here, you freeze all layers:\n",
    "for parm in model_lora.parameters():\n",
    "    parm.requires_grad=False\n",
    "model_lora"
   ]
  },
  {
   "cell_type": "markdown",
   "id": "8b3675ac-321d-4935-a764-d281bdeed513",
   "metadata": {},
   "source": [
    "Note that the `for` loop in the above code froze all of the layers in the neural network, including the embedding layer.\n"
   ]
  },
  {
   "cell_type": "markdown",
   "id": "bf8cd535-1f7d-40cf-a723-92ecfecb87b1",
   "metadata": {},
   "source": [
    "Additionally, note that the original model was on a classification problem that had four classes, while the IMDB dataset has just 2 classes. To account for this, you will replace the final layer with a new linear layer where the number of outputs equals 2:\n"
   ]
  },
  {
   "cell_type": "code",
   "execution_count": null,
   "id": "ac83abcd-6aa8-4b75-b3ad-cad6e47bd954",
   "metadata": {},
   "outputs": [
    {
     "ename": "NameError",
     "evalue": "name 'device' is not defined",
     "output_type": "error",
     "traceback": [
      "\u001b[1;31m---------------------------------------------------------------------------\u001b[0m",
      "\u001b[1;31mNameError\u001b[0m                                 Traceback (most recent call last)",
      "Cell \u001b[1;32mIn[22], line 1\u001b[0m\n\u001b[1;32m----> 1\u001b[0m model_lora\u001b[38;5;241m.\u001b[39mfc2\u001b[38;5;241m=\u001b[39mnn\u001b[38;5;241m.\u001b[39mLinear(in_features\u001b[38;5;241m=\u001b[39m\u001b[38;5;241m128\u001b[39m, out_features\u001b[38;5;241m=\u001b[39m\u001b[38;5;241m2\u001b[39m, bias\u001b[38;5;241m=\u001b[39m\u001b[38;5;28;01mTrue\u001b[39;00m)\u001b[38;5;241m.\u001b[39mto(\u001b[43mdevice\u001b[49m)\n\u001b[0;32m      2\u001b[0m model_lora\n",
      "\u001b[1;31mNameError\u001b[0m: name 'device' is not defined"
     ]
    }
   ],
   "source": [
    "model_lora.fc2=nn.Linear(in_features=128, out_features=2, bias=True).to(device)\n",
    "model_lora"
   ]
  },
  {
   "cell_type": "markdown",
   "id": "70bd4a67-e41f-4232-a2ab-cbebd3e27e55",
   "metadata": {},
   "source": [
    "Let's view all of the modules in the object.\n"
   ]
  },
  {
   "cell_type": "code",
   "execution_count": null,
   "id": "270e8203-fd76-4277-9d6a-557151b28061",
   "metadata": {},
   "outputs": [
    {
     "ename": "NameError",
     "evalue": "name 'model_lora' is not defined",
     "output_type": "error",
     "traceback": [
      "\u001b[1;31m---------------------------------------------------------------------------\u001b[0m",
      "\u001b[1;31mNameError\u001b[0m                                 Traceback (most recent call last)",
      "Cell \u001b[1;32mIn[23], line 1\u001b[0m\n\u001b[1;32m----> 1\u001b[0m \u001b[43mmodel_lora\u001b[49m\n",
      "\u001b[1;31mNameError\u001b[0m: name 'model_lora' is not defined"
     ]
    }
   ],
   "source": [
    "model_lora"
   ]
  },
  {
   "cell_type": "markdown",
   "id": "57d693f7-8275-4b2c-ac7e-9dfb7a2508af",
   "metadata": {},
   "source": [
    "Your task now is to replace the hidden layer with a LoRA layer. You can access the hidden layer as follows:\n"
   ]
  },
  {
   "cell_type": "code",
   "execution_count": null,
   "id": "0d5bbf8a-0d30-4ed9-8396-22c39a22d831",
   "metadata": {},
   "outputs": [],
   "source": [
    "model_lora.fc1"
   ]
  },
  {
   "cell_type": "markdown",
   "id": "fd0cabe8-ab66-4995-9618-16409d4c8b6d",
   "metadata": {},
   "source": [
    "The following replaces this layer with a LoRA layer:\n"
   ]
  },
  {
   "cell_type": "code",
   "execution_count": null,
   "id": "f96f815a-5186-4129-ae74-6c89afb228cf",
   "metadata": {},
   "outputs": [],
   "source": [
    "model_lora.fc1=LinearWithLoRA(model_lora.fc1,rank=2, alpha=0.1).to(device)"
   ]
  },
  {
   "cell_type": "markdown",
   "id": "065e808c-e90e-4491-a634-c7993d9e86ca",
   "metadata": {},
   "source": [
    "Let's look at the hidden layer again to ensure that it is indeed converted to a LoRA layer.\n"
   ]
  },
  {
   "cell_type": "code",
   "execution_count": null,
   "id": "c576cb74-89e1-4527-a571-2d2d93c68954",
   "metadata": {},
   "outputs": [],
   "source": [
    "model_lora.fc1"
   ]
  },
  {
   "cell_type": "markdown",
   "id": "5384b179-31f8-402b-b02f-0634ece89d16",
   "metadata": {},
   "source": [
    "At this point, training the model is similar, with the only difference being that, except for the output layer, only the learnable parameters \n",
    "```A``` and  ```B``` will be updated. The code to select the values for  `r` and `alpha`, which is not run, is nonetheless provided herein for your convenience.\n"
   ]
  },
  {
   "cell_type": "code",
   "execution_count": null,
   "id": "3532d417-15f6-4607-bf7b-dac78e6dd3f7",
   "metadata": {},
   "outputs": [],
   "source": [
    "model_lora.to(device)"
   ]
  },
  {
   "cell_type": "markdown",
   "id": "45d5ae04-c3f7-4cb1-8fca-e3a2f84a9671",
   "metadata": {},
   "source": [
    "<details>\n",
    "<summary><b>Click here to see code to select r and alpha</b></summary>\n",
    "    \n",
    "```python \n",
    "ranks = [1, 2, 5, 10]\n",
    "alphas = [0.1, 0.5, 1.0, 2.0, 5.0]\n",
    "\n",
    "results=[]\n",
    "accuracy_old=0\n",
    "# Loop over each combination of 'r' and 'alpha'\n",
    "for r in ranks:\n",
    "    for alpha in alphas:\n",
    "        print(f\"Testing with rank = {r} and alpha = {alpha}\")\n",
    "        model_name=f\"model_lora_rank{r}_alpha{alpha}_AGtoIBDM_final_adam_\"\n",
    "        \n",
    "        model_lora=TextClassifier(num_classes=4,freeze=False)\n",
    "        model_lora.to(device)\n",
    "        \n",
    "        urlopened = urlopen('https://cf-courses-data.s3.us.cloud-object-storage.appdomain.cloud/uGC04Pom651hQs1XrZ0NsQ/my-model-freeze-false.pth')\n",
    "        \n",
    "        stream = io.BytesIO(urlopened.read())\n",
    "        state_dict = torch.load(stream, map_location=device)\n",
    "        model_lora.load_state_dict(state_dict)\n",
    "        \n",
    "        for parm in model_lora.parameters():\n",
    "            parm.requires_grad=False\n",
    "        \n",
    "        model_lora.fc2=nn.Linear(in_features=128, out_features=2, bias=True)\n",
    "        model_lora.fc1=LinearWithLoRA(model_lora.fc1,rank=r, alpha=alpha )\n",
    "        optimizer = torch.optim.Adam(model_lora.parameters(), lr=LR)\n",
    "\n",
    "        scheduler = torch.optim.lr_scheduler.ExponentialLR(optimizer, gamma=0.1)\n",
    "        \n",
    "        model_lora.to(device)\n",
    "        \n",
    "        \n",
    "        \n",
    "\n",
    "        \n",
    "        train_model(model_lora, optimizer, criterion, train_dataloader, valid_dataloader, epochs=300, model_name=model_name)\n",
    "        \n",
    "        accuracy=evaluate(valid_dataloader ,  model_lora, device)\n",
    "        result = {\n",
    "            'rank': r,\n",
    "            'alpha': alpha,\n",
    "            'accuracy':accuracy\n",
    "        }\n",
    "\n",
    "        # Append the dictionary to the results list\n",
    "        results.append(result)\n",
    "        \n",
    "        \n",
    "        \n",
    "        \n",
    "\n",
    "        if accuracy>accuracy_old:\n",
    "            print(f\"Testing with rank = {r} and alpha = {alpha}\")\n",
    "            print(f\"accuracy: {accuracy} accuracy_old: {accuracy_old}\" )\n",
    "            accuracy_old=accuracy\n",
    "            torch.save(model.state_dict(), f\"{model_name}.pth\")\n",
    "            save_list_to_file(cum_loss_list, f\"{model_name}_loss.pkl\")\n",
    "            save_list_to_file(acc_epoch, f\"{model_name}_acc.pkl\")\n",
    "            \n",
    "        \n",
    "```       \n"
   ]
  },
  {
   "cell_type": "markdown",
   "id": "fcbb75db-c7b9-4d88-8ffe-e366c6c68e6a",
   "metadata": {},
   "source": [
    "\n",
    "Let's set up the training components for the `model_lora` model, defining a learning rate of 1, using cross-entropy loss as the criterion, optimizing with stochastic gradient descent (SGD), and scheduling the learning rate to decay by a factor of 0.1 at each epoch:\n"
   ]
  },
  {
   "cell_type": "code",
   "execution_count": null,
   "id": "b3b695d3-74ab-49fd-9310-609cf77170a9",
   "metadata": {},
   "outputs": [],
   "source": [
    "LR=1\n",
    "criterion = torch.nn.CrossEntropyLoss()\n",
    "optimizer = torch.optim.SGD(model_lora.parameters(), lr=LR)\n",
    "scheduler = torch.optim.lr_scheduler.StepLR(optimizer, 1.0, gamma=0.1)\n"
   ]
  },
  {
   "cell_type": "markdown",
   "id": "2c4396da-c37c-4cef-be42-d40d6fbf7e6c",
   "metadata": {},
   "source": [
    "You have pretrained a model using an identical procedure for 300 epochs and saved it for your convenience. However, to give you a taste of how training works in practice, run the following code to train the model for just 2 epochs.\n"
   ]
  },
  {
   "cell_type": "code",
   "execution_count": null,
   "id": "7e7a8c9f-86d9-49ae-9bb4-45b4b25b5ece",
   "metadata": {},
   "outputs": [],
   "source": [
    "model_name=\"model_lora_final2\"\n",
    "train_model(model_lora,optimizer, criterion, train_dataloader, valid_dataloader, epochs=2, model_name=model_name)\n"
   ]
  },
  {
   "cell_type": "markdown",
   "id": "5b49489d-450b-4d47-a6d6-67b8e0d596d6",
   "metadata": {},
   "source": [
    "Instead of evaluating the model you just trained for 2 epochs, lets have a look at the LoRA model pretrained on 300 epochs:\n"
   ]
  },
  {
   "cell_type": "code",
   "execution_count": null,
   "id": "5189a8bb-35fa-4729-aedd-cdedb15a1477",
   "metadata": {},
   "outputs": [],
   "source": [
    "\n",
    "%%capture \n",
    "!wget https://cf-courses-data.s3.us.cloud-object-storage.appdomain.cloud/JWPRb1RMhKLRMUWOKw9pxA/model-lora-final2.pth\n",
    "!wget https://cf-courses-data.s3.us.cloud-object-storage.appdomain.cloud/_dm02rLyTrwsXEQh2r32sQ/model-lora-final2-acc.pkl\n",
    "!wget https://cf-courses-data.s3.us.cloud-object-storage.appdomain.cloud/OZbVqKjoqOSIwnET8AB1KA/model-lora-final2-loss.pkl\n"
   ]
  },
  {
   "cell_type": "markdown",
   "id": "3c0d1167-83c2-4ea7-bce0-cbbc2d5cb3a5",
   "metadata": {},
   "source": [
    "The following shows the progression of the training of this model for 300 epochs:\n"
   ]
  },
  {
   "cell_type": "code",
   "execution_count": null,
   "id": "ad8f0a7d-fd67-4856-b1b9-8b9ca0962951",
   "metadata": {},
   "outputs": [],
   "source": [
    "cum_loss_list=load_list_from_file(model_name.replace('_','-') + \"-loss.pkl\")\n",
    "acc_epoch=load_list_from_file(model_name.replace('_','-') + \"-acc.pkl\")\n",
    "plot(cum_loss_list,acc_epoch)"
   ]
  },
  {
   "cell_type": "markdown",
   "id": "e57fee0e-b030-4616-b288-dc8d18d354bc",
   "metadata": {},
   "source": [
    "Let's load actually load the model into model_lora:\n"
   ]
  },
  {
   "cell_type": "code",
   "execution_count": null,
   "id": "b8a8c8f6-f8e8-44c4-b03a-d6b6ee8555d8",
   "metadata": {},
   "outputs": [],
   "source": [
    "model_lora.load_state_dict(torch.load(model_name.replace('_','-') + \".pth\", map_location=device))\n",
    "model_lora.eval()"
   ]
  },
  {
   "cell_type": "markdown",
   "id": "9d91150b-3520-4325-86df-d213c95f9464",
   "metadata": {},
   "source": [
    "And, let's evaluate its performance on the test data.\n"
   ]
  },
  {
   "cell_type": "code",
   "execution_count": null,
   "id": "c2a7bb2b-7c5c-4d00-8eb7-764ee1af3f3d",
   "metadata": {},
   "outputs": [],
   "source": [
    "evaluate(test_dataloader , model_lora, device)\n"
   ]
  },
  {
   "cell_type": "markdown",
   "id": "4ea91752-05d2-40ff-97e3-f46353606691",
   "metadata": {},
   "source": [
    "You get a 3% improvement over a model trained from scratch by using LoRA. Note that this occurs despite the fact that the model fine-tuned with LoRA updated less parameters than the model trained from scratch!\n"
   ]
  },
  {
   "cell_type": "markdown",
   "id": "a3e24bf0-7b93-4b89-9bfc-b8292d42438c",
   "metadata": {},
   "source": [
    "The ```model_lora.fc1``` attribute represents ```LinearWithLoRA``` which contains both the standard ```Linear``` layer ``(linear)`` and an additional ```LoRA``` layer ```(lora)``` which represents the ```LoRALayer```.\n"
   ]
  },
  {
   "cell_type": "code",
   "execution_count": null,
   "id": "482faffe-64e0-446b-89e9-ffd71937f2d9",
   "metadata": {},
   "outputs": [],
   "source": [
    "model_lora.fc1"
   ]
  },
  {
   "cell_type": "markdown",
   "id": "0bebc9dd-452a-4787-8297-b0065d756728",
   "metadata": {},
   "source": [
    "From ```model_lora.fc1.lora```, you can obtain the learnable parameters A and B.  \n"
   ]
  },
  {
   "cell_type": "code",
   "execution_count": null,
   "id": "8008241b-be93-47fa-8940-f8ad91d98750",
   "metadata": {},
   "outputs": [],
   "source": [
    "B=model_lora.fc1.lora.B\n",
    "print(\"B\",B)\n",
    "print(\"\\n Number of elements in the tensor B\",B.numel())\n",
    "torch.save(B, 'B.pth')\n"
   ]
  },
  {
   "cell_type": "code",
   "execution_count": null,
   "id": "66bdcfc5-89b9-47b8-b088-c1aa01c5046d",
   "metadata": {},
   "outputs": [],
   "source": [
    "A=model_lora.fc1.lora.A\n",
    "print(\"A\",A)\n",
    "print(\"\\n Number of elements in the tensor A\",A.numel())\n",
    "torch.save(A, 'A.pth')"
   ]
  },
  {
   "cell_type": "markdown",
   "id": "81a3616c-174b-4ca5-871a-6b1e1f16b3ad",
   "metadata": {},
   "source": [
    "A and B have approximately 450 parameters. If you were to store the entire linear layer, you would have 12,800 parameters, which is around 28 times more. Remember, this is possibly the simplest model that you can have.\n"
   ]
  },
  {
   "cell_type": "code",
   "execution_count": null,
   "id": "49d1c6ea-b224-4ac1-bdc6-942cf4c40927",
   "metadata": {},
   "outputs": [],
   "source": [
    "\n",
    "print(\"\\n Number of elements in the tensor A\",model_lora.fc1.linear.weight.numel())\n"
   ]
  },
  {
   "cell_type": "markdown",
   "id": "391b2639-72db-4fe9-b04d-a3818b26023e",
   "metadata": {},
   "source": [
    " alfa and the ouput layer  are also saved.\n"
   ]
  },
  {
   "cell_type": "code",
   "execution_count": null,
   "id": "c99bb817-876c-4866-b2fd-91ebd9c46060",
   "metadata": {},
   "outputs": [],
   "source": [
    "alfa_=model_lora.fc1.lora.alpha\n",
    "torch.save(alfa_, 'alfa_.pth')\n",
    "torch.save(model_lora.fc2.state_dict(), 'out_layer.pth')\n"
   ]
  },
  {
   "cell_type": "markdown",
   "id": "386d8e55-30a6-4d43-84b2-a016d3412c6e",
   "metadata": {},
   "source": [
    "## Loading the model\n",
    "\n",
    "The main advantage of LoRA is that for fine-tuning, you only need to save the learnable parameters A and B, alpha, and the output layer in your classification example.\n"
   ]
  },
  {
   "cell_type": "markdown",
   "id": "2cc67156-5fb1-4d28-8954-02c2d532dbba",
   "metadata": {},
   "source": [
    "The saved files are converted to tensors and the linear layer, respectively.\n"
   ]
  },
  {
   "cell_type": "code",
   "execution_count": null,
   "id": "5c9f7fa6-aa5f-4fda-a5b5-4493febb5b98",
   "metadata": {},
   "outputs": [],
   "source": [
    "A = torch.load('A.pth')\n",
    "print(\"A:\",A.shape)"
   ]
  },
  {
   "cell_type": "code",
   "execution_count": null,
   "id": "53076a27-58fb-406d-adcb-bcb183c85cb5",
   "metadata": {},
   "outputs": [],
   "source": [
    "B = torch.load('B.pth')\n",
    "print(\"B:\",B.shape)"
   ]
  },
  {
   "cell_type": "code",
   "execution_count": null,
   "id": "f24e2edb-b6ec-4c76-a5e2-6e478ee9f88d",
   "metadata": {},
   "outputs": [],
   "source": [
    "alfa_ = torch.load('alfa_.pth')\n",
    "alfa_ \n"
   ]
  },
  {
   "cell_type": "markdown",
   "id": "ea5504a9-5f70-4a4d-967f-41e4113397ab",
   "metadata": {},
   "source": [
    "The output layer:\n"
   ]
  },
  {
   "cell_type": "code",
   "execution_count": null,
   "id": "1b86a9e0-b1d3-4f50-895c-a7ccfe3c92f4",
   "metadata": {},
   "outputs": [],
   "source": [
    "output_layer=nn.Linear(in_features=128, out_features=2, bias=True)\n",
    "output_layer.load_state_dict(torch.load('out_layer.pth'))"
   ]
  },
  {
   "cell_type": "markdown",
   "id": "1eeb65e9-b5fe-40a1-889d-15b07894484e",
   "metadata": {},
   "source": [
    "The model object is created and the pretrained parameters are loaded:\n"
   ]
  },
  {
   "cell_type": "code",
   "execution_count": null,
   "id": "2fab9d83-d6b4-46eb-bacf-57b03e82e7bb",
   "metadata": {},
   "outputs": [],
   "source": [
    "\n",
    "model_load_lora = TextClassifier(num_classes=4,freeze=False)\n",
    "model_load_lora.to(device)\n",
    "\n",
    "urlopened = urlopen('https://cf-courses-data.s3.us.cloud-object-storage.appdomain.cloud/uGC04Pom651hQs1XrZ0NsQ/my-model-freeze-false.pth')\n",
    "\n",
    "stream = io.BytesIO(urlopened.read())\n",
    "state_dict = torch.load(stream, map_location=device)\n",
    "model_load_lora.load_state_dict(state_dict)\n",
    "\n",
    "model_load_lora"
   ]
  },
  {
   "cell_type": "markdown",
   "id": "51892c75-44fa-4d08-be1b-64c0f7daf347",
   "metadata": {},
   "source": [
    "The LoRA layer object is added to the original hidden layer.\n"
   ]
  },
  {
   "cell_type": "code",
   "execution_count": null,
   "id": "021b0095-8ce3-4386-84aa-83fa8a278228",
   "metadata": {},
   "outputs": [],
   "source": [
    "model_load_lora.fc1=LinearWithLoRA(model_load_lora.fc1,rank=2, alpha=0.1)\n",
    "model_load_lora.fc2=nn.Linear(in_features=128, out_features=2, bias=True).to(device)"
   ]
  },
  {
   "cell_type": "markdown",
   "id": "0dd1271e-f49d-418e-b455-a1e0c9a8082a",
   "metadata": {},
   "source": [
    "The parameters from fine-tuning are added.\n"
   ]
  },
  {
   "cell_type": "code",
   "execution_count": null,
   "id": "955f239c-663d-454c-8dff-9664650af73a",
   "metadata": {},
   "outputs": [],
   "source": [
    "model_load_lora.fc1.lora.A=A\n",
    "model_load_lora.fc1.lora.B=B\n",
    "model_load_lora.fc1.lora.alpha=alfa_ \n",
    "model_load_lora.fc2=output_layer"
   ]
  },
  {
   "cell_type": "code",
   "execution_count": null,
   "id": "810e369f-1c78-476a-9190-5ccff2c2df45",
   "metadata": {},
   "outputs": [],
   "source": [
    "model_load_lora.to(device)\n",
    "model_load_lora.eval()\n"
   ]
  },
  {
   "cell_type": "code",
   "execution_count": null,
   "id": "ace40279-0cc2-4670-911e-f057e7ca294a",
   "metadata": {},
   "outputs": [],
   "source": [
    "evaluate(test_dataloader , model_load_lora, device)"
   ]
  },
  {
   "cell_type": "markdown",
   "id": "471d1f0f-ff37-49d5-b41a-1ccbd9c1ca1d",
   "metadata": {},
   "source": [
    "This confirms that the model loaded correctly. You still get a 3% improvement in accuracy!\n"
   ]
  },
  {
   "cell_type": "markdown",
   "id": "47059d16-abcd-48d4-95c8-b7d9952cb8b4",
   "metadata": {},
   "source": [
    "Finally, the following shows how you can make a prediction on the following article using the function **`predict`**:\n"
   ]
  },
  {
   "cell_type": "code",
   "execution_count": null,
   "id": "19394fc9-f2cd-45a6-8774-cfd5283a3c7a",
   "metadata": {},
   "outputs": [],
   "source": [
    "article=\"\"\"This was a lacklustre movie with very little going for it. I was not impressed.\"\"\""
   ]
  },
  {
   "cell_type": "markdown",
   "id": "f67bfdad-b551-4bfb-8a10-4c2a4014bd5f",
   "metadata": {},
   "source": [
    "This markdown content generates a styled box with light gray background and padding. It contains an `<h3>` header displaying the content of the `article` variable, and an `<h4>` header indicating the predicted category of the news article which is provided by the `result` variable. The placeholders `{article}` and `{result}` will be dynamically replaced with actual values when this markdown is rendered.\n"
   ]
  },
  {
   "cell_type": "code",
   "execution_count": null,
   "id": "897792a3-4f5e-42e9-9e28-774cd59ebffa",
   "metadata": {},
   "outputs": [],
   "source": [
    "result = predict(article, model_load_lora, text_pipeline)\n",
    "\n",
    "markdown_content = f'''\n",
    "<div style=\"background-color: lightgray; padding: 10px;\">\n",
    "    <h3>{article}</h3>\n",
    "    <h4>The category of the news article: {result}</h4>\n",
    "</div>\n",
    "'''\n",
    "\n",
    "md(markdown_content)"
   ]
  },
  {
   "cell_type": "markdown",
   "id": "51c713e8-89f6-45df-9058-4acdc99f0333",
   "metadata": {},
   "source": [
    "---\n",
    "## Exercise: Apply LoRA to a different network\n",
    "\n",
    "The following code defines a neural network called `NNet`. \n",
    "\n",
    "`NNet` is a neural network that was originally written to identify hand-written digits from 32x32 images. Your task is to fine-tune this network to perform letter recognition using LoRA by replacing the section labeled `### REPLACE THIS ###` in the code block below. To enhance your understanding, apply LoRA to just the second linear layer, and replace the last layer with a layer that has 26 outputs, one for each letter in the English alphabet.\n"
   ]
  },
  {
   "cell_type": "code",
   "execution_count": null,
   "id": "b6aeace9-036c-43a6-8ccd-5321680f92f2",
   "metadata": {},
   "outputs": [],
   "source": [
    "#TODO"
   ]
  },
  {
   "cell_type": "markdown",
   "id": "809df0c5-07f7-48f9-b629-046ba47031d3",
   "metadata": {},
   "source": [
    "<details>\n",
    "    <summary>Click here for the solution</summary>\n",
    "\n",
    "```python\n",
    "class NNet(nn.Module):\n",
    "\n",
    "    def __init__(self):\n",
    "        super(NNet, self).__init__()\n",
    "        # 1 input image channel, 6 output channels, 5x5 square convolution\n",
    "        # kernel\n",
    "        self.conv1 = nn.Conv2d(1, 6, 5)\n",
    "        self.conv2 = nn.Conv2d(6, 16, 5)\n",
    "        # an affine operation: y = Wx + b\n",
    "        self.fc1 = nn.Linear(16 * 5 * 5, 120)  # 5*5 from image dimension\n",
    "        self.fc2 = nn.Linear(120, 84)\n",
    "        self.fc3 = nn.Linear(84, 10)\n",
    "\n",
    "    def forward(self, input):\n",
    "        # Convolution layer C1: 1 input image channel, 6 output channels,\n",
    "        # 5x5 square convolution, it uses RELU activation function, and\n",
    "        # outputs a Tensor with size (N, 6, 28, 28), where N is the size of the batch\n",
    "        c1 = F.relu(self.conv1(input))\n",
    "        # Subsampling layer S2: 2x2 grid, purely functional,\n",
    "        # this layer does not have any parameter, and outputs a (N, 6, 14, 14) Tensor\n",
    "        s2 = F.max_pool2d(c1, (2, 2))\n",
    "        # Convolution layer C3: 6 input channels, 16 output channels,\n",
    "        # 5x5 square convolution, it uses RELU activation function, and\n",
    "        # outputs a (N, 16, 10, 10) Tensor\n",
    "        c3 = F.relu(self.conv2(s2))\n",
    "        # Subsampling layer S4: 2x2 grid, purely functional,\n",
    "        # this layer does not have any parameter, and outputs a (N, 16, 5, 5) Tensor\n",
    "        s4 = F.max_pool2d(c3, 2)\n",
    "        # Flatten operation: purely functional, outputs a (N, 400) Tensor\n",
    "        s4 = torch.flatten(s4, 1)\n",
    "        # Fully connected layer F5: (N, 400) Tensor input,\n",
    "        # and outputs a (N, 120) Tensor, it uses RELU activation function\n",
    "        f5 = F.relu(self.fc1(s4))\n",
    "        # Fully connected layer F6: (N, 120) Tensor input,\n",
    "        # and outputs a (N, 84) Tensor, it uses RELU activation function\n",
    "        f6 = F.relu(self.fc2(f5))\n",
    "        # Gaussian layer OUTPUT: (N, 84) Tensor input, and\n",
    "        # outputs a (N, 10) Tensor\n",
    "        output = self.fc3(f6)\n",
    "        return output\n",
    "\n",
    "model_exercise = NNet()\n",
    "model_exercise.to(device)\n",
    "\n",
    "print('This is what the model looked like before applying LoRA:')\n",
    "print(model_exercise)\n",
    "print(\"\\n###############\\n\")\n",
    "\n",
    "# Freeze all parameters:\n",
    "for parm in model_exercise.parameters():\n",
    "    parm.requires_grad=False\n",
    "\n",
    "# Change final layer for one with 26 outputs:\n",
    "model_exercise.fc3=nn.Linear(in_features=84, out_features=26, bias=True).to(device)\n",
    "\n",
    "# Apply LoRA to the second linear layer\n",
    "model_exercise.fc2=LinearWithLoRA(model_exercise.fc2,rank=2, alpha=0.1).to(device)\n",
    "\n",
    "print('This is what the model looked like after applying LoRA:')\n",
    "print(model_exercise)\n",
    "```\n",
    "\n",
    "</details>\n"
   ]
  },
  {
   "cell_type": "markdown",
   "id": "6f0dbd5f-6fd3-4d36-b1e0-2ed3c8a15c49",
   "metadata": {},
   "source": [
    "---\n"
   ]
  },
  {
   "cell_type": "markdown",
   "id": "3dfe7b11-3252-43a6-8a5f-20480a864439",
   "metadata": {},
   "source": [
    "## Congratulations! You have completed the lab\n"
   ]
  },
  {
   "cell_type": "markdown",
   "id": "37c44448-f847-4592-af28-8a478a347503",
   "metadata": {},
   "source": [
    "## Authors\n"
   ]
  },
  {
   "cell_type": "markdown",
   "id": "11dd6747-4c31-4bcd-8ce3-4a3e3bff7511",
   "metadata": {},
   "source": [
    "[Joseph Santarcangelo](https://author.skills.network/instructors/joseph_santarcangelo) has a Ph.D. in Electrical Engineering, his research focused on using machine learning, signal processing, and computer vision to determine how videos impact human cognition. Joseph has been working for IBM since he completed his Ph.D.\n"
   ]
  },
  {
   "cell_type": "markdown",
   "id": "e46d38e4-b64d-4c37-81f5-efa4d1e1a2b6",
   "metadata": {},
   "source": [
    "[Wojciech \"Victor\" Fulmyk](https://www.linkedin.com/in/wfulmyk) is a Data Scientist at IBM, and a PhD Candidate in economics at the University of Calgary.\n"
   ]
  },
  {
   "cell_type": "markdown",
   "id": "15767dcb-4a88-4802-a40c-c966e44c38f3",
   "metadata": {},
   "source": [
    "[Ashutosh Sagar](https://www.linkedin.com/in/ashutoshsagar/) is completing his MS in CS from Dalhousie University. He has previous experience working with Natural Language Processing and as a Data Scientist.\n"
   ]
  },
  {
   "cell_type": "markdown",
   "id": "7703e9dc-e832-46a5-8084-c412b9a8ab06",
   "metadata": {},
   "source": [
    "## References\n",
    "\n",
    "[Finetuning with LoRA -- A Hands-On Example](https://lightning.ai/lightning-ai/studios/code-lora-from-scratch)\n",
    "\n",
    "[TEXT CLASSIFICATION WITH THE TORCHTEXT LIBRARY](https://pytorch.org/tutorials/beginner/text_sentiment_ngrams_tutorial.html)\n",
    "\n",
    "\n"
   ]
  },
  {
   "cell_type": "markdown",
   "id": "35534be8-06ed-482f-9a63-9299766609bc",
   "metadata": {},
   "source": [
    "```{## Change Log}\n",
    "```\n"
   ]
  },
  {
   "cell_type": "markdown",
   "id": "35eca934-1586-4873-b5b1-47df1c8a6007",
   "metadata": {},
   "source": [
    "```{|Date (YYYY-MM-DD)|Version|Changed By|Change Description||-|-|-|-||2023-07-27|0.1|Joseph|Created Lab||2024-06-04|1.0|wfulmyk|First release|}\n",
    "```\n"
   ]
  },
  {
   "cell_type": "markdown",
   "id": "e518852a-8e41-4c04-a9cb-6fdf430ccd84",
   "metadata": {},
   "source": [
    "© Copyright IBM Corporation. All rights reserved.\n"
   ]
  }
 ],
 "metadata": {
  "kernelspec": {
   "display_name": "Python (myenv)",
   "language": "python",
   "name": "myenv"
  },
  "language_info": {
   "codemirror_mode": {
    "name": "ipython",
    "version": 3
   },
   "file_extension": ".py",
   "mimetype": "text/x-python",
   "name": "python",
   "nbconvert_exporter": "python",
   "pygments_lexer": "ipython3",
   "version": "3.10.11"
  },
  "prev_pub_hash": "b312e7707eaf6773559f6a7b4db7df76592b6b5bd03d62156337a545768c9cbf"
 },
 "nbformat": 4,
 "nbformat_minor": 4
}
